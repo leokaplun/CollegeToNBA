{
 "cells": [
  {
   "cell_type": "markdown",
   "id": "60c95de7-b870-4535-a7b9-6a5959d2981f",
   "metadata": {},
   "source": [
    "## Extract NBA Player Data\n",
    "This notebook extract career stats for each player in a given year.  \n",
    "For each year that the loop runs for, the stats will be repeated.  \n",
    "For example: if you extract the stat for Al Horford using year = 2010, you will get his stats from the start of his career up to today (2022).  \n",
    "Of course it's not necessary to extract all this data, but at this stage it's easier to just get the data for all players each year then do more complicated filtering.  \n",
    "I will de-dup the late at a later stage"
   ]
  },
  {
   "cell_type": "code",
   "execution_count": 29,
   "id": "fcbd84b1-d464-4f6e-be63-7e00a2faa639",
   "metadata": {},
   "outputs": [],
   "source": [
    "from bs4 import BeautifulSoup\n",
    "import requests\n",
    "import re\n",
    "import pandas as pd\n",
    "from lxml import etree, html\n",
    "import os\n",
    "from datetime import datetime\n",
    "from sportsipy.nba.teams import Teams\n",
    "from sportsipy.nba.roster import Roster,  Player"
   ]
  },
  {
   "cell_type": "markdown",
   "id": "d9c53d56-0f7c-4271-9d9a-88c08241c466",
   "metadata": {},
   "source": [
    "**NBA Loop**"
   ]
  },
  {
   "cell_type": "code",
   "execution_count": null,
   "id": "2277e925-0f59-448d-816d-768bbd1494e2",
   "metadata": {},
   "outputs": [],
   "source": [
    "# list of years to loop through\n",
    "years = [2013,2014,2015,2016,2017,2018,2019,2020]\n",
    "\n",
    "# get team abbreviation for each team\n",
    "for year in years:\n",
    "    teams = Teams(year = year)\n",
    "    team_abbr = []\n",
    "    for team in teams:\n",
    "        team_abbr.append(team.abbreviation)\n",
    "\n",
    "    \n",
    " \n",
    "    lst_players = [] # list of players\n",
    "    player_team = [] # team the player plays for\n",
    "    for team in team_abbr:\n",
    "        print('team: ',team,'year: ',year,'Start at: ',datetime.now().strftime(\"%d/%m/%Y %H:%M:%S\"))\n",
    "        for player in Roster(team, year=year).players:\n",
    "            lst_players.append(player)  \n",
    "            player_team.append(team)\n",
    "    \n",
    "    # empty df to hold the stats for each player over the year\n",
    "    stats = pd.DataFrame()\n",
    "    print('populating stats df: ',datetime.now().strftime(\"%d/%m/%Y %H:%M:%S\"))\n",
    "    for player,team_abbr in list(zip(lst_players,player_team)):\n",
    "        df = pd.concat([\n",
    "            player.dataframe.reset_index(),\n",
    "            pd.DataFrame({'name':[player.name]*player.dataframe.shape[0]}),\n",
    "            pd.DataFrame({'id':[player.player_id]*player.dataframe.shape[0]}),\n",
    "            pd.DataFrame({'team':[team_abbr]*player.dataframe.shape[0]})\n",
    "        ],axis=1)\n",
    "        stats = pd.concat([stats,df],axis = 0)\n",
    "    \n",
    "    # create csv\n",
    "    stats.to_csv('nba_'+str(year)+'.csv', index = False)"
   ]
  },
  {
   "cell_type": "markdown",
   "id": "2bef8463-c9c7-48d8-a9ab-fec75b7aac64",
   "metadata": {},
   "source": [
    "## Create table from output"
   ]
  },
  {
   "cell_type": "markdown",
   "id": "d86d4587-d5aa-46b2-ae81-6dbb44aa528b",
   "metadata": {},
   "source": [
    "**Create nba_player**"
   ]
  },
  {
   "cell_type": "code",
   "execution_count": 25,
   "id": "fb8b47b4-aa8e-496f-836f-9bb80a787f6c",
   "metadata": {},
   "outputs": [],
   "source": [
    "files = os.listdir('01_raw_csv_files')\n",
    "files_csv = [f for f in files if f[-3:] == 'csv' and f[:3]=='nba']\n",
    "\n",
    "nba_player = pd.DataFrame()\n",
    "for file in files_csv:\n",
    "    df = pd.read_csv('01_raw_csv_files/'+file)\n",
    "    nba_player = pd.concat([nba_player,df.loc[:,['player_id','name']].drop_duplicates().reset_index(drop=True)])\n",
    "nba_player = nba_player.drop_duplicates().reset_index(drop= True)    "
   ]
  },
  {
   "cell_type": "code",
   "execution_count": 26,
   "id": "4792d6af-d576-44e2-9866-394ce252b59a",
   "metadata": {},
   "outputs": [],
   "source": [
    "nba_player.to_csv('02_database/nba_player.csv',index=False)"
   ]
  },
  {
   "cell_type": "markdown",
   "id": "b323e006-ed09-4f14-9a85-30b9d270327c",
   "metadata": {
    "tags": []
   },
   "source": [
    "**Create nba_player_stats**"
   ]
  },
  {
   "cell_type": "code",
   "execution_count": 20,
   "id": "adb8b297-3cfa-4426-8974-66f632a6f79c",
   "metadata": {},
   "outputs": [],
   "source": [
    "files = os.listdir('01_raw_csv_files')\n",
    "files_csv = [f for f in files if f[-3:] == 'csv' and f[:3]=='nba']\n",
    "\n",
    "nba_player_stats = pd.DataFrame()\n",
    "for file in files_csv:\n",
    "    df = pd.read_csv('01_raw_csv_files/'+file)\n",
    "    nba_player_stats = pd.concat([nba_player_stats,df.loc[(df.level_0 != 'Career'),:].drop(columns = 'name')])\n",
    "nba_player_stats = nba_player_stats.drop_duplicates().reset_index(drop= True)   \n",
    "nba_player_stats.rename(columns = {'level_0':'season'},inplace = True)"
   ]
  },
  {
   "cell_type": "code",
   "execution_count": 21,
   "id": "7cf9dbf0-07f7-46c9-bcd5-79ec6ac77d36",
   "metadata": {},
   "outputs": [],
   "source": [
    "nba_player_stats.to_csv('02_database/nba_player_stats.csv',index=False)"
   ]
  },
  {
   "cell_type": "markdown",
   "id": "348d77b4-44c4-4b48-bf3d-33608f8a74cf",
   "metadata": {},
   "source": [
    "**Create nba_player_career_stats**  \n",
    "At the moment this seems to be a table that will need to be updated since there is no season variable.  \n",
    "So for a Freshman, this table will need to be updated the following year. Not sure if this will be a useful table"
   ]
  },
  {
   "cell_type": "code",
   "execution_count": 22,
   "id": "f3fd463a-f801-4e51-b38e-5b2a9fea171b",
   "metadata": {},
   "outputs": [],
   "source": [
    "files = os.listdir('01_raw_csv_files')\n",
    "files_csv = [f for f in files if f[-3:] == 'csv' and f[:3]=='nba']\n",
    "\n",
    "nba_player_career_stats = pd.DataFrame()\n",
    "for file in files_csv:\n",
    "    df = pd.read_csv('01_raw_csv_files/'+file)\n",
    "    nba_player_career_stats = pd.concat([nba_player_career_stats,df.loc[(df.level_0 == 'Career'),:].drop(columns = 'name')])\n",
    "nba_player_career_stats = nba_player_career_stats.drop_duplicates().reset_index(drop= True)   \n",
    "nba_player_career_stats.rename(columns = {'level_0':'season'},inplace = True)"
   ]
  },
  {
   "cell_type": "code",
   "execution_count": 24,
   "id": "bb6b834e-538e-4f10-b1ea-390a09b54973",
   "metadata": {},
   "outputs": [],
   "source": [
    "nba_player_career_stats.to_csv('02_database/nba_player_career_stats.csv',index=False)"
   ]
  }
 ],
 "metadata": {
  "kernelspec": {
   "display_name": "Python 3 (ipykernel)",
   "language": "python",
   "name": "python3"
  },
  "language_info": {
   "codemirror_mode": {
    "name": "ipython",
    "version": 3
   },
   "file_extension": ".py",
   "mimetype": "text/x-python",
   "name": "python",
   "nbconvert_exporter": "python",
   "pygments_lexer": "ipython3",
   "version": "3.8.8"
  }
 },
 "nbformat": 4,
 "nbformat_minor": 5
}
