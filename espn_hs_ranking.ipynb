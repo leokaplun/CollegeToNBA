{
 "cells": [
  {
   "cell_type": "code",
   "execution_count": 1,
   "id": "a43f5663-b36c-4062-b171-a01d46bf8f72",
   "metadata": {},
   "outputs": [],
   "source": [
    "from bs4 import BeautifulSoup\n",
    "import requests\n",
    "import re\n",
    "import pandas as pd"
   ]
  },
  {
   "cell_type": "code",
   "execution_count": 2,
   "id": "0c6ee15b-5291-4cb9-9684-0aed817d7193",
   "metadata": {},
   "outputs": [],
   "source": [
    "\n",
    "# provide initial link to the any page\n",
    "loc = 'http://www.espn.com/college-sports/basketball/recruiting/playerrankings/_/class/2007/order/true'\n",
    "html_text = requests.get(loc).text\n",
    "soup = BeautifulSoup(html_text, 'lxml')\n",
    "\n",
    "\n",
    "# create empty lists to hold the year and link of the page\n",
    "year = []\n",
    "link = []\n",
    "\n",
    "# From the initial page (can be any year) select <form> tag with js-goto class\n",
    "# this will have all the links and years, however there is only 1 item in this object\n",
    "year_link = soup.find_all(\"form\", class_='js-goto')\n",
    "\n",
    "# loop throuhg the 1 item in the year_link object\n",
    "# inside are all the links and years under <option> tag\n",
    "# the attribute of the <option> tag will have the link (minus the first 2 characters)\n",
    "# the text of the <option> tag will have the year \n",
    "# use this link to cycle through all the years\n",
    "for i in year_link:\n",
    "    for option in i.find_all('option'):\n",
    "        year.append(option.text)\n",
    "        link_str = list(option.attrs.items())[0][1]\n",
    "        link.append('http://' + link_str[2:len(link_str)]) # remove first 2 characters, slashes\n",
    "year_link_df = pd.DataFrame({'year':year,'link':link})"
   ]
  },
  {
   "cell_type": "code",
   "execution_count": 4,
   "id": "a3f9004c-4f79-4507-8de2-b54be861a2b5",
   "metadata": {},
   "outputs": [
    {
     "name": "stdout",
     "output_type": "stream",
     "text": [
      "2025 http://www.espn.com/college-sports/basketball/recruiting/playerrankings/_/class/2025/order/true\n",
      "2024 http://www.espn.com/college-sports/basketball/recruiting/playerrankings/_/class/2024/order/true\n",
      "2023 http://www.espn.com/college-sports/basketball/recruiting/playerrankings/_/order/true\n",
      "2022 http://www.espn.com/college-sports/basketball/recruiting/playerrankings/_/class/2022/order/true\n",
      "2021 http://www.espn.com/college-sports/basketball/recruiting/playerrankings/_/class/2021/order/true\n",
      "2020 http://www.espn.com/college-sports/basketball/recruiting/playerrankings/_/class/2020/order/true\n",
      "2019 http://www.espn.com/college-sports/basketball/recruiting/playerrankings/_/class/2019/order/true\n",
      "2018 http://www.espn.com/college-sports/basketball/recruiting/playerrankings/_/class/2018/order/true\n",
      "2017 http://www.espn.com/college-sports/basketball/recruiting/playerrankings/_/class/2017/order/true\n",
      "2016 http://www.espn.com/college-sports/basketball/recruiting/playerrankings/_/class/2016/order/true\n",
      "2015 http://www.espn.com/college-sports/basketball/recruiting/playerrankings/_/class/2015/order/true\n",
      "2014 http://www.espn.com/college-sports/basketball/recruiting/playerrankings/_/class/2014/order/true\n",
      "2013 http://www.espn.com/college-sports/basketball/recruiting/playerrankings/_/class/2013/order/true\n",
      "2012 http://www.espn.com/college-sports/basketball/recruiting/playerrankings/_/class/2012/order/true\n",
      "2011 http://www.espn.com/college-sports/basketball/recruiting/playerrankings/_/class/2011/order/true\n",
      "2010 http://www.espn.com/college-sports/basketball/recruiting/playerrankings/_/class/2010/order/true\n",
      "2009 http://www.espn.com/college-sports/basketball/recruiting/playerrankings/_/class/2009/order/true\n",
      "2008 http://www.espn.com/college-sports/basketball/recruiting/playerrankings/_/class/2008/order/true\n",
      "2007 http://www.espn.com/college-sports/basketball/recruiting/playerrankings/_/class/2007/order/true\n"
     ]
    }
   ],
   "source": [
    "# Create function to get player details from each year\n",
    "def player_details(player_chunk,year):\n",
    "    \"\"\"\n",
    "    player_chunk: supply bs4 ResultSet that has <td> tags for each player\n",
    "    year: integer value for the year\n",
    "    returns Pandas df\n",
    "    \"\"\"\n",
    "    rank =[]\n",
    "    name =[]\n",
    "    position = []\n",
    "    height = []\n",
    "    weight = []\n",
    "    grade = []\n",
    "    for profile in player_chunk:\n",
    "        tds = profile.find_all(\"td\") ###\n",
    "        rank.append(tds[0].text)\n",
    "        name.append(tds[1].find('div', class_ = 'name').strong.text)\n",
    "        position.append(tds[2].text)\n",
    "        height.append(tds[4].text)\n",
    "        weight.append(tds[5].text)\n",
    "        grade.append(tds[7].text)\n",
    "\n",
    "    return pd.DataFrame({'rank':rank, 'name':name,'position':position,'height':height,'weight':weight,'grade':grade,'year':year})    \n",
    "\n",
    "\n",
    "\n",
    "\n",
    "#create empty DF\n",
    "hs_ranking = pd.DataFrame(columns = ['rank', 'name','position','height','weight','grade','year'])\n",
    "\n",
    "# cycle through each year of the year_link_df and extract player details\n",
    "for i in range(len(year_link_df)):\n",
    "    year,link = year_link_df.iloc[i]\n",
    "    print(year,link)\n",
    "    html_text = requests.get(link).text\n",
    "    soup = BeautifulSoup(html_text, 'lxml')\n",
    "    player_chunk = soup.find_all(\"tr\", class_=re.compile(\"^odd|^even\"))\n",
    "    hs_ranking = pd.concat([hs_ranking,player_details(player_chunk,year)],axis = 0)"
   ]
  },
  {
   "cell_type": "code",
   "execution_count": 6,
   "id": "970ad3d4-be51-4f3b-82a0-a4fd803df83f",
   "metadata": {},
   "outputs": [],
   "source": [
    "hs_ranking.to_csv('hs_ranking.csv',index = False)"
   ]
  },
  {
   "cell_type": "code",
   "execution_count": null,
   "id": "b91d5548-6a2d-4fb5-add9-644a3b0289ad",
   "metadata": {},
   "outputs": [],
   "source": []
  }
 ],
 "metadata": {
  "kernelspec": {
   "display_name": "Python 3 (ipykernel)",
   "language": "python",
   "name": "python3"
  },
  "language_info": {
   "codemirror_mode": {
    "name": "ipython",
    "version": 3
   },
   "file_extension": ".py",
   "mimetype": "text/x-python",
   "name": "python",
   "nbconvert_exporter": "python",
   "pygments_lexer": "ipython3",
   "version": "3.8.8"
  }
 },
 "nbformat": 4,
 "nbformat_minor": 5
}
