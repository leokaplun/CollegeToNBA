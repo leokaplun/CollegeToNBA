{
 "cells": [
  {
   "cell_type": "markdown",
   "id": "88a30bbd-4b60-4ff3-bd9b-44194a54bb5e",
   "metadata": {},
   "source": [
    "## Extracting player height and weight \n",
    "**25-08-22**\n",
    "* weight not available for all players\n",
    "* height not availabel for all players but a very small minority"
   ]
  },
  {
   "cell_type": "code",
   "execution_count": 1,
   "id": "4aac8da0-6132-4b7a-a12d-4fa802f749d4",
   "metadata": {},
   "outputs": [],
   "source": [
    "import pandas as pd\n",
    "import seaborn as sns\n",
    "import numpy as np\n",
    "from matplotlib import pyplot as plt\n",
    "from bs4 import BeautifulSoup\n",
    "import requests\n",
    "pd.set_option(\"display.max_rows\", 200)\n",
    "pd.set_option(\"display.max_columns\", 100)\n",
    "pd.set_option(\"display.max_colwidth\", 200)"
   ]
  },
  {
   "cell_type": "code",
   "execution_count": null,
   "id": "766072cc-0330-42f1-8698-953abe565e1d",
   "metadata": {},
   "outputs": [],
   "source": [
    "# import player list\n",
    "# players = pd.read_csv('02_database/cbb_player.csv')"
   ]
  },
  {
   "cell_type": "code",
   "execution_count": null,
   "id": "ed001de8-6733-492c-bfa6-b4d25e1e317a",
   "metadata": {},
   "outputs": [],
   "source": [
    "# create empty DFs to store various ways that height/weight is stored\n",
    "# df_height_5col = pd.DataFrame(columns = ['a','b','c','d','cbb_player_id'])\n",
    "# df_height_4col = pd.DataFrame(columns = ['a','b','c','cbb_player_id'])\n",
    "# df_height_3col = pd.DataFrame(columns = ['a','b','cbb_player_id'])\n",
    "# df_height_error = pd.DataFrame(columns = ['ccb_player_id'])"
   ]
  },
  {
   "cell_type": "code",
   "execution_count": null,
   "id": "3f8e8949-fe62-4770-8ee4-a2af1ea3cd61",
   "metadata": {
    "tags": []
   },
   "outputs": [],
   "source": [
    "# extracting height/weight from player profile\n",
    "# some players (very small fraction) will not have these details. Usually this is when the player has not played very much, just a few games\n",
    "# player_ids = players.player_id.tolist()\n",
    "# for num,player_id in enumerate(player_ids):\n",
    "#     try:\n",
    "#         url = 'https://www.sports-reference.com/cbb/players/' + player_id + '.html'\n",
    "#         page = requests.get(url)\n",
    "#         soup = BeautifulSoup(page.text,'lxml') \n",
    "#         profile = soup.find('div',{'id':'meta'})\n",
    "#         if profile.find_all('p')[1]:\n",
    "#             row = [i.text.replace('\\xa0','').replace(' ','') for i in profile.find_all('p')[1]]\n",
    "#             row.append(player_id)\n",
    "#             if len(row) == 5:\n",
    "#                 df_height_5col.loc[len(df_height_5col)] = row\n",
    "#             elif len(row) == 4:\n",
    "#                 df_height_4col.loc[len(df_height_4col)] = row\n",
    "#             elif len(row) == 3:\n",
    "#                 df_height_3col.loc[len(df_height_3col)] = row\n",
    "#             print(str(num)+' of '+str(len(player_ids)))\n",
    "#     except:\n",
    "#         df_height_error.loc[len(df_height_error)] = player_id\n",
    "#         pass"
   ]
  },
  {
   "cell_type": "code",
   "execution_count": null,
   "id": "f1ac0a1a-d9d9-41b4-ba24-d1910ebfe007",
   "metadata": {},
   "outputs": [],
   "source": [
    "## These players have some extra text, so the height/weight data is in the 2nd element\n",
    "\n",
    "# df_height_4col_fix = pd.DataFrame(columns = ['a','b','c','d','cbb_player_id'])\n",
    "# player_ids = df_height_4col.cbb_player_id.tolist()\n",
    "# for num,player_id in enumerate(player_ids):\n",
    "#     try:\n",
    "#         url = 'https://www.sports-reference.com/cbb/players/' + player_id + '.html'\n",
    "#         page = requests.get(url)\n",
    "#         soup = BeautifulSoup(page.text,'lxml') \n",
    "#         profile = soup.find('div',{'id':'meta'})\n",
    "#         if profile.find_all('p')[2]:\n",
    "#             row = [i.text.replace('\\xa0','').replace(' ','') for i in profile.find_all('p')[2]]\n",
    "#             row.append(player_id)\n",
    "#             df_height_4col_fix.loc[len(df_height_4col_fix)] = row\n",
    "#             print(str(num)+' of '+str(len(player_ids)))\n",
    "#     except:\n",
    "#         df_height_error.loc[len(df_height_error)] = player_id\n",
    "#         pass"
   ]
  },
  {
   "cell_type": "code",
   "execution_count": 1633,
   "id": "99ce139b-de31-49f0-a116-509c7f8272fb",
   "metadata": {},
   "outputs": [],
   "source": [
    "# back up copies\n",
    "# df_height_5col.to_csv('01_raw_csv_files/cbb_height_weight/df_height_5col.csv',index = False)\n",
    "# # df_height_4col.to_csv('01_raw_csv_files/cbb_height_weight/df_height_4col.csv',index = False) # can use the _fix instead\n",
    "# df_height_4col_fix.to_csv('01_raw_csv_files/cbb_height_weight/df_height_4col_fix.csv',index = False)\n",
    "# df_height_3col.to_csv('01_raw_csv_files/cbb_height_weight/df_height_3col.csv',index = False)\n",
    "# df_height_error.to_csv('01_raw_csv_files/cbb_height_weight/df_height_error.csv',index = False)"
   ]
  },
  {
   "cell_type": "markdown",
   "id": "fe6a8bae-031d-492f-9d2f-12ea9ce377cc",
   "metadata": {},
   "source": [
    "#### Cleaning up height tables\n",
    "* output of web scraping above falls into 3 categories\n",
    "    1. 5 column output - most commont type, has height/weight in cm/kg and feet/lb and one empty column\n",
    "    1a. 4 column output - was originally 4 columns but I fixed the code and it will product 5 columns, so can ignore this\n",
    "    2. 3 column output - may not have height for everyone, for those who do have height they don't have weight. From this list I just filtered on those who had the height\n",
    "    3. error - those who did not really have any height info. Usually it would be when a player plays very few games and is very low profile. Just ignore those\n",
    "* remember that this list needs to **left-join** to the main list since you don't have every player"
   ]
  },
  {
   "cell_type": "code",
   "execution_count": 66,
   "id": "2dcd92b5-6858-4107-99f1-641557a892bb",
   "metadata": {},
   "outputs": [],
   "source": [
    "df_height_5col = pd.read_csv('01_raw_csv_files/cbb_height_weight/df_height_5col.csv')\n",
    "df_height_4col_fix = pd.read_csv('01_raw_csv_files/cbb_height_weight/df_height_4col_fix.csv')\n",
    "df_height_3col = pd.read_csv('01_raw_csv_files/cbb_height_weight/df_height_3col.csv')\n",
    "df_height_error = pd.read_csv('01_raw_csv_files/cbb_height_weight/df_height_error.csv')"
   ]
  },
  {
   "cell_type": "code",
   "execution_count": 71,
   "id": "31fa1bc2-6ac7-4682-b961-2be17fa4b867",
   "metadata": {},
   "outputs": [
    {
     "data": {
      "text/html": [
       "<div>\n",
       "<style scoped>\n",
       "    .dataframe tbody tr th:only-of-type {\n",
       "        vertical-align: middle;\n",
       "    }\n",
       "\n",
       "    .dataframe tbody tr th {\n",
       "        vertical-align: top;\n",
       "    }\n",
       "\n",
       "    .dataframe thead th {\n",
       "        text-align: right;\n",
       "    }\n",
       "</style>\n",
       "<table border=\"1\" class=\"dataframe\">\n",
       "  <thead>\n",
       "    <tr style=\"text-align: right;\">\n",
       "      <th></th>\n",
       "      <th>cbb_player_id</th>\n",
       "      <th>height_cm</th>\n",
       "      <th>weight_kg</th>\n",
       "    </tr>\n",
       "  </thead>\n",
       "  <tbody>\n",
       "    <tr>\n",
       "      <th>0</th>\n",
       "      <td>harrison-hawkins-1</td>\n",
       "      <td>183</td>\n",
       "      <td>77</td>\n",
       "    </tr>\n",
       "    <tr>\n",
       "      <th>1</th>\n",
       "      <td>parker-wentz-1</td>\n",
       "      <td>175</td>\n",
       "      <td>77</td>\n",
       "    </tr>\n",
       "  </tbody>\n",
       "</table>\n",
       "</div>"
      ],
      "text/plain": [
       "        cbb_player_id height_cm weight_kg\n",
       "0  harrison-hawkins-1       183        77\n",
       "1      parker-wentz-1       175        77"
      ]
     },
     "execution_count": 71,
     "metadata": {},
     "output_type": "execute_result"
    }
   ],
   "source": [
    "# cleaning height_cm and weight_kg [df_height_5col,df_height_4col_fix]\n",
    "# not going to clean lb and feet, same info\n",
    "x = pd.concat([df_height_5col,df_height_4col_fix], axis = 0).d\\\n",
    ".str.replace(')','', regex = False)\\\n",
    ".str.replace('(','',regex = False)\\\n",
    ".str.replace('cm','',regex = False)\\\n",
    ".str.replace('kg','',regex = False)\\\n",
    ".str.split(',',expand = True)\\\n",
    ".rename(columns = {0:'height_cm',1:'weight_kg'})\n",
    "height_weight_temp_1 = pd.concat([pd.concat([df_height_5col.cbb_player_id,df_height_4col_fix.cbb_player_id], axis = 0),x],axis = 1)\n",
    "\n",
    "# cleaning up df_height_3col\n",
    "x = df_height_3col[~df_height_3col.b.str.contains('kg')].b\\\n",
    ".str.replace(\"(\",'',regex = False)\\\n",
    ".str.replace(')','',regex=False)\\\n",
    ".str.replace('cm','',regex = False)\n",
    "height_weight_temp_2 = pd.concat([df_height_3col[~df_height_3col.b.str.contains('kg')].cbb_player_id,x,pd.Series(np.nan)],axis = 1)\\\n",
    ".rename(columns = {'b':'height_cm',0:'weight_kg'})\n",
    "\n",
    "player_height_weight = pd.concat([height_weight_temp_1,height_weight_temp_2],axis = 0)\n",
    "player_height_weight.head(2)"
   ]
  },
  {
   "cell_type": "code",
   "execution_count": 75,
   "id": "fdf466bc-12d6-4852-abbb-1e0516bd889e",
   "metadata": {},
   "outputs": [],
   "source": [
    "# save as csv\n",
    "player_height_weight.to_csv('02_database/cbb_player_height_weight.csv',index = False)"
   ]
  }
 ],
 "metadata": {
  "kernelspec": {
   "display_name": "Python 3 (ipykernel)",
   "language": "python",
   "name": "python3"
  },
  "language_info": {
   "codemirror_mode": {
    "name": "ipython",
    "version": 3
   },
   "file_extension": ".py",
   "mimetype": "text/x-python",
   "name": "python",
   "nbconvert_exporter": "python",
   "pygments_lexer": "ipython3",
   "version": "3.8.8"
  }
 },
 "nbformat": 4,
 "nbformat_minor": 5
}
