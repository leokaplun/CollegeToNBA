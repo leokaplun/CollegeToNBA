{
 "cells": [
  {
   "cell_type": "markdown",
   "id": "a63a6bd6-490a-49b0-8e7b-c8b6b2958efa",
   "metadata": {},
   "source": [
    "This notebook extract the list of players who make themselves eligible for the draft.  \n",
    "The data is extracted from basketball.realgm.com.  \n",
    "I did not extract player specific details since I will be getting those from thir college profile"
   ]
  },
  {
   "cell_type": "code",
   "execution_count": 235,
   "id": "5550f436-fe87-462e-be72-439c63cbf238",
   "metadata": {},
   "outputs": [],
   "source": [
    "from bs4 import BeautifulSoup\n",
    "import requests\n",
    "import re\n",
    "import pandas as pd\n",
    "from lxml import etree, html"
   ]
  },
  {
   "cell_type": "code",
   "execution_count": 236,
   "id": "63c536ad-b0f7-4e4a-8ae6-59597708c8eb",
   "metadata": {},
   "outputs": [],
   "source": [
    "years = [2008,2009,2010,2011,2012,2013,2014,2015,2016,2017,2018,2019,2020]\n",
    "link = ['https://basketball.realgm.com/nba/draft/early_entry/by_year/']*len(years)\n",
    "links = [''.join(item) for item in zip(link,map(str,years))]"
   ]
  },
  {
   "cell_type": "code",
   "execution_count": 237,
   "id": "4061a035-c8fb-4e19-be51-8e0cc99244ea",
   "metadata": {},
   "outputs": [],
   "source": [
    "# function to extract player names for given year\n",
    "def draft_player_list(html_tables,year):\n",
    "    player_name = []\n",
    "    table_num = []\n",
    "    year_draft = []\n",
    "    for tbl_num,table in enumerate(html_tables):\n",
    "        for item in html.fromstring(html.tostring(table)).xpath('//tbody/tr/td[1]/a'):\n",
    "            player_name.append(item.text)\n",
    "            table_num.append(tbl_num)\n",
    "            year_draft.append(year)\n",
    "    return pd.DataFrame({'year':year_draft,'table_number':table_num,'player_name':player_name})"
   ]
  },
  {
   "cell_type": "code",
   "execution_count": 238,
   "id": "c8ce8a57-6cac-4461-bf42-16133fd571e5",
   "metadata": {},
   "outputs": [],
   "source": [
    "# df that assigns the player status, withdrawn from draft or remain in draft for both US and Int players\n",
    "table_name_lookup = pd.DataFrame({'status':['us_withdrawn','int_withdrawn','us_remain','int_remain'],'table_number':[0,1,2,3]})\n",
    "\n",
    "# create empty DF to store results\n",
    "draft_entrantee = pd.DataFrame(columns = ['year','table_number','player_name','status'])\n",
    "for link in links:\n",
    "    html_text = requests.get(link)\n",
    "    # get year from last 4 charcters from link\n",
    "    year = link[len(link)-4:len(link)]\n",
    "    \n",
    "    # get all content from page\n",
    "    tree = html.fromstring(html_text.content)\n",
    "\n",
    "    # get all tables on the page\n",
    "    all_tables = tree.xpath('//body/div[2]/div[3]/div/table')\n",
    "    \n",
    "    # get DF with player names\n",
    "    df = draft_player_list(all_tables,year)\n",
    "    df = df.merge(table_name_lookup,how = 'left',left_on='table_number',right_on='table_number')\n",
    "    # append df to main df\n",
    "    draft_entrantee = pd.concat([draft_entrantee,df],axis = 0)\n",
    "    "
   ]
  },
  {
   "cell_type": "code",
   "execution_count": 239,
   "id": "53cc00ae-146e-4c5b-947b-b9ab2bf2fe6b",
   "metadata": {},
   "outputs": [],
   "source": [
    "draft_entrantee.to_csv('draft_entrantee.csv',index = False)"
   ]
  },
  {
   "cell_type": "code",
   "execution_count": null,
   "id": "55304dfe-043a-4988-855b-7dc51ddbc136",
   "metadata": {},
   "outputs": [],
   "source": []
  },
  {
   "cell_type": "code",
   "execution_count": null,
   "id": "7eaa6c98-b52f-4c40-a403-0dd3e7db0b79",
   "metadata": {},
   "outputs": [],
   "source": []
  },
  {
   "cell_type": "code",
   "execution_count": 240,
   "id": "9e288180-7e52-4a6d-9a31-edf8e32e3a4e",
   "metadata": {},
   "outputs": [],
   "source": [
    "# getting other details\n",
    "# The following is a quick map of the details. But I will not be getting them at this time because I will be focusing on College players only and I will get this data from their college profile.\n",
    "# td[1]/a - name\n",
    "# td[2] - position\n",
    "# td[3] - height\n",
    "# td[4] - weight\n",
    "# td[5]/a - dob\n",
    "# html.fromstring(html.tostring(all_tables[3])).xpath('//tbody/tr/td[5]/a')[0].text"
   ]
  },
  {
   "cell_type": "code",
   "execution_count": 247,
   "id": "71285e0d-a623-4078-8456-45ad035dd433",
   "metadata": {},
   "outputs": [
    {
     "data": {
      "text/html": [
       "<div>\n",
       "<style scoped>\n",
       "    .dataframe tbody tr th:only-of-type {\n",
       "        vertical-align: middle;\n",
       "    }\n",
       "\n",
       "    .dataframe tbody tr th {\n",
       "        vertical-align: top;\n",
       "    }\n",
       "\n",
       "    .dataframe thead th {\n",
       "        text-align: right;\n",
       "    }\n",
       "</style>\n",
       "<table border=\"1\" class=\"dataframe\">\n",
       "  <thead>\n",
       "    <tr style=\"text-align: right;\">\n",
       "      <th></th>\n",
       "      <th></th>\n",
       "      <th>table_number</th>\n",
       "      <th>player_name</th>\n",
       "    </tr>\n",
       "    <tr>\n",
       "      <th>year</th>\n",
       "      <th>status</th>\n",
       "      <th></th>\n",
       "      <th></th>\n",
       "    </tr>\n",
       "  </thead>\n",
       "  <tbody>\n",
       "    <tr>\n",
       "      <th rowspan=\"4\" valign=\"top\">2008</th>\n",
       "      <th>int_remain</th>\n",
       "      <td>5</td>\n",
       "      <td>5</td>\n",
       "    </tr>\n",
       "    <tr>\n",
       "      <th>int_withdrawn</th>\n",
       "      <td>17</td>\n",
       "      <td>17</td>\n",
       "    </tr>\n",
       "    <tr>\n",
       "      <th>us_remain</th>\n",
       "      <td>39</td>\n",
       "      <td>39</td>\n",
       "    </tr>\n",
       "    <tr>\n",
       "      <th>us_withdrawn</th>\n",
       "      <td>31</td>\n",
       "      <td>31</td>\n",
       "    </tr>\n",
       "    <tr>\n",
       "      <th rowspan=\"4\" valign=\"top\">2020</th>\n",
       "      <th>int_remain</th>\n",
       "      <td>13</td>\n",
       "      <td>13</td>\n",
       "    </tr>\n",
       "    <tr>\n",
       "      <th>int_withdrawn</th>\n",
       "      <td>30</td>\n",
       "      <td>30</td>\n",
       "    </tr>\n",
       "    <tr>\n",
       "      <th>us_remain</th>\n",
       "      <td>71</td>\n",
       "      <td>71</td>\n",
       "    </tr>\n",
       "    <tr>\n",
       "      <th>us_withdrawn</th>\n",
       "      <td>94</td>\n",
       "      <td>94</td>\n",
       "    </tr>\n",
       "  </tbody>\n",
       "</table>\n",
       "</div>"
      ],
      "text/plain": [
       "                    table_number  player_name\n",
       "year status                                  \n",
       "2008 int_remain                5            5\n",
       "     int_withdrawn            17           17\n",
       "     us_remain                39           39\n",
       "     us_withdrawn             31           31\n",
       "2020 int_remain               13           13\n",
       "     int_withdrawn            30           30\n",
       "     us_remain                71           71\n",
       "     us_withdrawn             94           94"
      ]
     },
     "execution_count": 247,
     "metadata": {},
     "output_type": "execute_result"
    }
   ],
   "source": [
    "draft_entrantee[draft_entrantee.year.isin(['2008','2020'])].groupby(['year','status']).count()"
   ]
  },
  {
   "cell_type": "code",
   "execution_count": null,
   "id": "78c78e23-f0f7-4017-8664-23e77c6da3b4",
   "metadata": {},
   "outputs": [],
   "source": [
    "underclassman - year 1 and 2\n",
    "upperclassman - year 3 and 4"
   ]
  },
  {
   "cell_type": "code",
   "execution_count": 250,
   "id": "5d6bb85e-692b-41e7-8ab7-062abb39dc79",
   "metadata": {},
   "outputs": [],
   "source": [
    "from sportsipy.ncaab.teams import Team\n",
    "\n",
    "purdue = Team('PURDUE')"
   ]
  },
  {
   "cell_type": "code",
   "execution_count": 262,
   "id": "cc2f6327-90a9-4a57-bb4a-d9e86c29742c",
   "metadata": {},
   "outputs": [],
   "source": [
    "x = purdue.roster"
   ]
  },
  {
   "cell_type": "code",
   "execution_count": 263,
   "id": "757f200a-a7ca-4bd1-a2b1-0a7aef8d27d6",
   "metadata": {},
   "outputs": [
    {
     "data": {
      "text/plain": [
       "[Jaden Ivey (jaden-ivey-1),\n",
       " Zach Edey (zach-edey-1),\n",
       " Trevion Williams (trevion-williams-1),\n",
       " Sasha Stefanovic (sasha-stefanovic-1),\n",
       " Eric Hunter Jr. (eric-hunterjr-1),\n",
       " Mason Gillis (mason-gillis-1),\n",
       " Isaiah Thompson (isaiah-thompson-1),\n",
       " Caleb Furst (caleb-furst-1),\n",
       " Brandon Newman (brandon-newman-2),\n",
       " Ethan Morton (ethan-morton-1),\n",
       " Carson Barrett (carson-barrett-1),\n",
       " Matt Frost (matt-frost-1),\n",
       " Chase Martin (chase-martin-1),\n",
       " Jared Wulbrun (jared-wulbrun-1),\n",
       " Trey Kaufman-Renn (trey-kaufman-renn-1),\n",
       " Brian Waddell (brian-waddell-1)]"
      ]
     },
     "execution_count": 263,
     "metadata": {},
     "output_type": "execute_result"
    }
   ],
   "source": [
    "x.players"
   ]
  },
  {
   "cell_type": "code",
   "execution_count": null,
   "id": "e36773ca-ef55-436b-a718-8ed7f5643525",
   "metadata": {},
   "outputs": [],
   "source": []
  }
 ],
 "metadata": {
  "kernelspec": {
   "display_name": "Python 3 (ipykernel)",
   "language": "python",
   "name": "python3"
  },
  "language_info": {
   "codemirror_mode": {
    "name": "ipython",
    "version": 3
   },
   "file_extension": ".py",
   "mimetype": "text/x-python",
   "name": "python",
   "nbconvert_exporter": "python",
   "pygments_lexer": "ipython3",
   "version": "3.8.8"
  }
 },
 "nbformat": 4,
 "nbformat_minor": 5
}
