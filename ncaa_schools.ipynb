{
 "cells": [
  {
   "cell_type": "markdown",
   "id": "74295a27-fbdc-4ac5-ad84-b0a9bcb31e9d",
   "metadata": {},
   "source": [
    "17-08-2022:  \n",
    "Once I got this infor I realised that basketball-reference.com doesn't even have anything for D2,D3 colleges. It's safe to say that 99% of NBA players come from D1 schools.  \n",
    "Since this data comes primarily from bask-ref.com, I would not have D2,D3 schools"
   ]
  },
  {
   "cell_type": "code",
   "execution_count": 1,
   "id": "38d66430-f814-447a-b1f9-74c221456fe3",
   "metadata": {},
   "outputs": [],
   "source": [
    "from bs4 import BeautifulSoup\n",
    "import requests\n",
    "import re\n",
    "import pandas as pd\n",
    "from lxml import etree, html\n",
    "import os\n",
    "import numpy as np\n",
    "from datetime import datetime\n",
    "pd.set_option(\"display.max_rows\", 200)\n",
    "pd.set_option(\"display.max_columns\", 100)\n",
    "pd.set_option(\"display.max_colwidth\", 200)"
   ]
  },
  {
   "cell_type": "code",
   "execution_count": 2,
   "id": "436d03b0-59d1-4073-acba-928897f8357d",
   "metadata": {},
   "outputs": [],
   "source": [
    "\n"
   ]
  },
  {
   "cell_type": "markdown",
   "id": "18733c88-a633-4851-88d0-d810b55f6faf",
   "metadata": {},
   "source": [
    "#### D1 Schools"
   ]
  },
  {
   "cell_type": "code",
   "execution_count": 122,
   "id": "342fade4-2093-477d-a9d5-51d6144f8ca9",
   "metadata": {},
   "outputs": [
    {
     "data": {
      "text/html": [
       "<div>\n",
       "<style scoped>\n",
       "    .dataframe tbody tr th:only-of-type {\n",
       "        vertical-align: middle;\n",
       "    }\n",
       "\n",
       "    .dataframe tbody tr th {\n",
       "        vertical-align: top;\n",
       "    }\n",
       "\n",
       "    .dataframe thead th {\n",
       "        text-align: right;\n",
       "    }\n",
       "</style>\n",
       "<table border=\"1\" class=\"dataframe\">\n",
       "  <thead>\n",
       "    <tr style=\"text-align: right;\">\n",
       "      <th></th>\n",
       "      <th>school</th>\n",
       "      <th>nickname</th>\n",
       "      <th>abr</th>\n",
       "      <th>conference</th>\n",
       "      <th>location</th>\n",
       "      <th>div</th>\n",
       "    </tr>\n",
       "  </thead>\n",
       "  <tbody>\n",
       "    <tr>\n",
       "      <th>0</th>\n",
       "      <td>Abilene Christian</td>\n",
       "      <td>Wildcats</td>\n",
       "      <td>ACU</td>\n",
       "      <td>WAC</td>\n",
       "      <td>Abilene, TX</td>\n",
       "      <td>1</td>\n",
       "    </tr>\n",
       "    <tr>\n",
       "      <th>1</th>\n",
       "      <td>Air Force</td>\n",
       "      <td>Falcons</td>\n",
       "      <td>AF</td>\n",
       "      <td>MWC</td>\n",
       "      <td>Colorado Springs, CO</td>\n",
       "      <td>1</td>\n",
       "    </tr>\n",
       "    <tr>\n",
       "      <th>2</th>\n",
       "      <td>Akron</td>\n",
       "      <td>Zips</td>\n",
       "      <td>AKR</td>\n",
       "      <td>MAC</td>\n",
       "      <td>Akron, OH</td>\n",
       "      <td>1</td>\n",
       "    </tr>\n",
       "  </tbody>\n",
       "</table>\n",
       "</div>"
      ],
      "text/plain": [
       "              school  nickname  abr conference              location  div\n",
       "0  Abilene Christian  Wildcats  ACU        WAC           Abilene, TX    1\n",
       "1          Air Force   Falcons   AF        MWC  Colorado Springs, CO    1\n",
       "2              Akron      Zips  AKR        MAC             Akron, OH    1"
      ]
     },
     "execution_count": 122,
     "metadata": {},
     "output_type": "execute_result"
    }
   ],
   "source": [
    "url = 'https://basketball.realgm.com/ncaa/teams'\n",
    "response = requests.get(url)\n",
    "html = response.text\n",
    "soup = BeautifulSoup(html, 'lxml')\n",
    "\n",
    "lst_main = []\n",
    "for i in soup.find('table',{'class':'tablesaw'}).find('tbody').find_all('tr'):\n",
    "    lst_school=[]\n",
    "    for x,val in enumerate(i.find_all('td')):\n",
    "        lst_school.append(val.text)\n",
    "    lst_main.append(lst_school)\n",
    "\n",
    "d1_schools = pd.DataFrame(lst_main)\n",
    "d1_schools.drop(columns = [5],inplace = True)\n",
    "d1_schools.rename(columns = {0:'school',1:'nickname',2:'abr',3:'conference',4:'location'},inplace = True)\n",
    "d1_schools['div'] = 1\n",
    "d1_schools.head(3) "
   ]
  },
  {
   "cell_type": "markdown",
   "id": "eccac92c-a9eb-42c4-88db-39e536eb63e8",
   "metadata": {},
   "source": [
    "#### D2 Schools"
   ]
  },
  {
   "cell_type": "code",
   "execution_count": 123,
   "id": "f2e0237d-84e5-41ce-9f07-01b24d2ad380",
   "metadata": {
    "tags": []
   },
   "outputs": [
    {
     "data": {
      "text/html": [
       "<div>\n",
       "<style scoped>\n",
       "    .dataframe tbody tr th:only-of-type {\n",
       "        vertical-align: middle;\n",
       "    }\n",
       "\n",
       "    .dataframe tbody tr th {\n",
       "        vertical-align: top;\n",
       "    }\n",
       "\n",
       "    .dataframe thead th {\n",
       "        text-align: right;\n",
       "    }\n",
       "</style>\n",
       "<table border=\"1\" class=\"dataframe\">\n",
       "  <thead>\n",
       "    <tr style=\"text-align: right;\">\n",
       "      <th></th>\n",
       "      <th>school</th>\n",
       "      <th>nickname</th>\n",
       "      <th>conference</th>\n",
       "      <th>location</th>\n",
       "      <th>div</th>\n",
       "    </tr>\n",
       "  </thead>\n",
       "  <tbody>\n",
       "    <tr>\n",
       "      <th>0</th>\n",
       "      <td>Academy of Art</td>\n",
       "      <td>Urban Knights</td>\n",
       "      <td>Pacific West Conference</td>\n",
       "      <td>San Francisco, CA</td>\n",
       "      <td>2</td>\n",
       "    </tr>\n",
       "    <tr>\n",
       "      <th>1</th>\n",
       "      <td>Adams State</td>\n",
       "      <td>Grizzlies</td>\n",
       "      <td>Rocky Mountain Athletic Conference</td>\n",
       "      <td>Alamosa, CO</td>\n",
       "      <td>2</td>\n",
       "    </tr>\n",
       "    <tr>\n",
       "      <th>2</th>\n",
       "      <td>Adelphi</td>\n",
       "      <td>Panthers</td>\n",
       "      <td>Northeast-10 Conference</td>\n",
       "      <td>Garden City, NY</td>\n",
       "      <td>2</td>\n",
       "    </tr>\n",
       "  </tbody>\n",
       "</table>\n",
       "</div>"
      ],
      "text/plain": [
       "           school       nickname                          conference  \\\n",
       "0  Academy of Art  Urban Knights             Pacific West Conference   \n",
       "1     Adams State      Grizzlies  Rocky Mountain Athletic Conference   \n",
       "2         Adelphi       Panthers             Northeast-10 Conference   \n",
       "\n",
       "            location  div  \n",
       "0  San Francisco, CA    2  \n",
       "1        Alamosa, CO    2  \n",
       "2    Garden City, NY    2  "
      ]
     },
     "execution_count": 123,
     "metadata": {},
     "output_type": "execute_result"
    }
   ],
   "source": [
    "url = 'https://basketball.realgm.com/ncaa-dii/teams'\n",
    "response = requests.get(url)\n",
    "html = response.text\n",
    "soup = BeautifulSoup(html, 'lxml')\n",
    "\n",
    "school = []\n",
    "for i in soup.find('table',{'class':'tablesaw'}).find('tbody').find_all('tr'):\n",
    "    school.append(i.text)\n",
    "\n",
    "d2_schools = pd.Series(school).str.split('\\n', expand = True)\n",
    "d2_schools.drop(columns = [4],inplace = True)\n",
    "d2_schools.rename(columns = {0:'school',1:'nickname',2:'conference',3:'location'},inplace = True)\n",
    "d2_schools['div'] = 2\n",
    "d2_schools.head(3)    "
   ]
  },
  {
   "cell_type": "markdown",
   "id": "70166f93-18f7-4e11-aed2-b4c59a96c651",
   "metadata": {},
   "source": [
    "#### D3 Schools"
   ]
  },
  {
   "cell_type": "code",
   "execution_count": 124,
   "id": "54d1d2f5-6161-4e29-ab84-8fc8eb04d753",
   "metadata": {
    "tags": []
   },
   "outputs": [
    {
     "data": {
      "text/html": [
       "<div>\n",
       "<style scoped>\n",
       "    .dataframe tbody tr th:only-of-type {\n",
       "        vertical-align: middle;\n",
       "    }\n",
       "\n",
       "    .dataframe tbody tr th {\n",
       "        vertical-align: top;\n",
       "    }\n",
       "\n",
       "    .dataframe thead th {\n",
       "        text-align: right;\n",
       "    }\n",
       "</style>\n",
       "<table border=\"1\" class=\"dataframe\">\n",
       "  <thead>\n",
       "    <tr style=\"text-align: right;\">\n",
       "      <th></th>\n",
       "      <th>school</th>\n",
       "      <th>nickname</th>\n",
       "      <th>conference</th>\n",
       "      <th>location</th>\n",
       "      <th>div</th>\n",
       "    </tr>\n",
       "  </thead>\n",
       "  <tbody>\n",
       "    <tr>\n",
       "      <th>0</th>\n",
       "      <td>Adrian</td>\n",
       "      <td>Bulldogs</td>\n",
       "      <td>Michigan Intercollegiate Athletic Association</td>\n",
       "      <td>Adrian, MI</td>\n",
       "      <td>3</td>\n",
       "    </tr>\n",
       "    <tr>\n",
       "      <th>1</th>\n",
       "      <td>Albertus Magnus College</td>\n",
       "      <td>Falcons</td>\n",
       "      <td>Great Northeast Athletic Conference</td>\n",
       "      <td>New Haven, CT</td>\n",
       "      <td>3</td>\n",
       "    </tr>\n",
       "    <tr>\n",
       "      <th>2</th>\n",
       "      <td>Albion</td>\n",
       "      <td>Britons</td>\n",
       "      <td>Michigan Intercollegiate Athletic Association</td>\n",
       "      <td>Albion, MI</td>\n",
       "      <td>3</td>\n",
       "    </tr>\n",
       "  </tbody>\n",
       "</table>\n",
       "</div>"
      ],
      "text/plain": [
       "                    school  nickname  \\\n",
       "0                   Adrian  Bulldogs   \n",
       "1  Albertus Magnus College   Falcons   \n",
       "2                   Albion   Britons   \n",
       "\n",
       "                                      conference       location  div  \n",
       "0  Michigan Intercollegiate Athletic Association     Adrian, MI    3  \n",
       "1            Great Northeast Athletic Conference  New Haven, CT    3  \n",
       "2  Michigan Intercollegiate Athletic Association     Albion, MI    3  "
      ]
     },
     "execution_count": 124,
     "metadata": {},
     "output_type": "execute_result"
    }
   ],
   "source": [
    "url = 'https://basketball.realgm.com/ncaa-diii/teams'\n",
    "response = requests.get(url)\n",
    "html = response.text\n",
    "soup = BeautifulSoup(html, 'lxml')\n",
    "\n",
    "school = []\n",
    "for i in soup.find('table',{'class':'tablesaw'}).find('tbody').find_all('tr'):\n",
    "    school.append(i.text)\n",
    "\n",
    "d3_schools = pd.Series(school).str.split('\\n', expand = True)\n",
    "d3_schools.drop(columns = [4],inplace = True)\n",
    "d3_schools.rename(columns = {0:'school',1:'nickname',2:'conference',3:'location'},inplace = True)\n",
    "d3_schools['div'] = 3\n",
    "d3_schools.head(3)"
   ]
  },
  {
   "cell_type": "code",
   "execution_count": null,
   "id": "a6f27691-b75c-4a01-8bb5-58d27cb79655",
   "metadata": {},
   "outputs": [],
   "source": []
  }
 ],
 "metadata": {
  "kernelspec": {
   "display_name": "Python 3 (ipykernel)",
   "language": "python",
   "name": "python3"
  },
  "language_info": {
   "codemirror_mode": {
    "name": "ipython",
    "version": 3
   },
   "file_extension": ".py",
   "mimetype": "text/x-python",
   "name": "python",
   "nbconvert_exporter": "python",
   "pygments_lexer": "ipython3",
   "version": "3.8.8"
  }
 },
 "nbformat": 4,
 "nbformat_minor": 5
}
