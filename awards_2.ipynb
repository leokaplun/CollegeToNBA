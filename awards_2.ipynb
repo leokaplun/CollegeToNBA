{
 "cells": [
  {
   "cell_type": "code",
   "execution_count": 1,
   "id": "ab39360f-d87a-4494-92c4-b603e34806ca",
   "metadata": {},
   "outputs": [],
   "source": [
    "import requests\n",
    "from bs4 import BeautifulSoup\n",
    "import pandas as pd"
   ]
  },
  {
   "cell_type": "code",
   "execution_count": 2,
   "id": "2dd22ef1-8c52-407e-9ec6-e1b1ce30236a",
   "metadata": {},
   "outputs": [],
   "source": [
    "#Imports the HTML into python\n",
    "url = 'https://www.sports-reference.com/cbb/awards/ap-poy.html'\n",
    "requests.get(url)\n",
    "page = requests.get(url)\n",
    "soup = BeautifulSoup(page.text, 'lxml')"
   ]
  },
  {
   "cell_type": "code",
   "execution_count": 4,
   "id": "fa54819e-960f-410a-816f-ea6cc2477e8d",
   "metadata": {},
   "outputs": [],
   "source": [
    "#Subsets the HTML to only get the HTML of our table needed\n",
    "table = soup.find('table', {'id':'ap-poy'})"
   ]
  },
  {
   "cell_type": "code",
   "execution_count": 5,
   "id": "e5172001-a869-4db0-a882-b20e955d8b98",
   "metadata": {},
   "outputs": [],
   "source": [
    "#Gets all the column headers of our table\n",
    "headers = []\n",
    "for i in table.find_all('th'):\n",
    "    title = i.text.strip()\n",
    "    headers.append(title)"
   ]
  },
  {
   "cell_type": "code",
   "execution_count": null,
   "id": "bd1f877c-7750-45f6-b920-85c4bd28f78f",
   "metadata": {},
   "outputs": [],
   "source": []
  },
  {
   "cell_type": "code",
   "execution_count": 28,
   "id": "cb1e44d9-d2cf-4658-b175-30043da4d8d6",
   "metadata": {},
   "outputs": [],
   "source": [
    "#gets all our data within the table and adds it to our dataframe\n",
    "for j in table.find_all('tr')[1:]:\n",
    "    row_data = j.find_all('td')\n",
    "    row = [tr.text for tr in row_data]\n",
    "    # id_ = row_data[0]['data-append-csv']\n",
    "    # length = len(df)\n",
    "    # df.loc[length] = row"
   ]
  },
  {
   "cell_type": "code",
   "execution_count": 29,
   "id": "17dc13f0-e521-49c1-a93d-8111be04a2c3",
   "metadata": {},
   "outputs": [
    {
     "data": {
      "text/plain": [
       "['Jerry Lucas',\n",
       " 'Ohio State',\n",
       " '27',\n",
       " '',\n",
       " '671',\n",
       " '470',\n",
       " '',\n",
       " '',\n",
       " '',\n",
       " '',\n",
       " '.623',\n",
       " '',\n",
       " '',\n",
       " '.764',\n",
       " '24.9',\n",
       " '17.4',\n",
       " '',\n",
       " '',\n",
       " '']"
      ]
     },
     "execution_count": 29,
     "metadata": {},
     "output_type": "execute_result"
    }
   ],
   "source": [
    "row"
   ]
  },
  {
   "cell_type": "code",
   "execution_count": 33,
   "id": "a4250222-518a-4942-8a10-6a98c80956ca",
   "metadata": {},
   "outputs": [
    {
     "data": {
      "text/plain": [
       "<td class=\"left\" csk=\"Lucas,Jerry\" data-append-csv=\"jerry-lucas-1\" data-stat=\"player\"><a href=\"/cbb/players/jerry-lucas-1.html\">Jerry Lucas</a></td>"
      ]
     },
     "execution_count": 33,
     "metadata": {},
     "output_type": "execute_result"
    }
   ],
   "source": [
    "row_data[0]"
   ]
  },
  {
   "cell_type": "code",
   "execution_count": 31,
   "id": "cf9c4a9b-aa71-4927-81c0-ededea110aa7",
   "metadata": {},
   "outputs": [
    {
     "data": {
      "text/plain": [
       "'jerry-lucas-1'"
      ]
     },
     "execution_count": 31,
     "metadata": {},
     "output_type": "execute_result"
    }
   ],
   "source": [
    "row_data[0]['data-append-csv']"
   ]
  },
  {
   "cell_type": "code",
   "execution_count": 34,
   "id": "37ec35d8-5a37-40b0-8388-dafe4d643c1b",
   "metadata": {},
   "outputs": [],
   "source": [
    "row_data[0].find(attrs = {'data-append-csv'})"
   ]
  },
  {
   "cell_type": "code",
   "execution_count": 37,
   "id": "14c51f6b-15e2-4af0-9675-8a32cc6c1d29",
   "metadata": {},
   "outputs": [
    {
     "data": {
      "text/plain": [
       "<td class=\"left\" csk=\"Lucas,Jerry\" data-append-csv=\"jerry-lucas-1\" data-stat=\"player\"><a href=\"/cbb/players/jerry-lucas-1.html\">Jerry Lucas</a></td>"
      ]
     },
     "execution_count": 37,
     "metadata": {},
     "output_type": "execute_result"
    }
   ],
   "source": [
    "row_data[0]"
   ]
  },
  {
   "cell_type": "code",
   "execution_count": 38,
   "id": "5f39936b-4708-4b52-8681-1d358303767d",
   "metadata": {},
   "outputs": [
    {
     "data": {
      "text/plain": [
       "{'class': ['left'],\n",
       " 'data-append-csv': 'jerry-lucas-1',\n",
       " 'data-stat': 'player',\n",
       " 'csk': 'Lucas,Jerry'}"
      ]
     },
     "execution_count": 38,
     "metadata": {},
     "output_type": "execute_result"
    }
   ],
   "source": [
    "row_data[0].attrs"
   ]
  },
  {
   "cell_type": "code",
   "execution_count": null,
   "id": "ee14e12b-3ef4-4fed-b668-ba975bc62ceb",
   "metadata": {},
   "outputs": [],
   "source": []
  }
 ],
 "metadata": {
  "kernelspec": {
   "display_name": "Python 3 (ipykernel)",
   "language": "python",
   "name": "python3"
  },
  "language_info": {
   "codemirror_mode": {
    "name": "ipython",
    "version": 3
   },
   "file_extension": ".py",
   "mimetype": "text/x-python",
   "name": "python",
   "nbconvert_exporter": "python",
   "pygments_lexer": "ipython3",
   "version": "3.8.8"
  }
 },
 "nbformat": 4,
 "nbformat_minor": 5
}
