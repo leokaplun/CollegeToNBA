{
 "cells": [
  {
   "cell_type": "markdown",
   "id": "6f4e9085-884f-403c-a9a9-9faaab8a3cae",
   "metadata": {},
   "source": [
    "#### Player id lookup notbook  \n",
    "In this notbook I create a look-up table that maps players' collegian id to NBA id.  \n",
    "The two ids are different and it's not possible to recreate these ids reliably.  \n",
    "However each NBA player who has played in College will have a link in their profile page which leads into their College profile.  \n",
    "To get the two id I do the following:  \n",
    "1. Find a page where all NBA players for the season will be listed. The easiest I found is the season stats for each year. (Note that if a player did not play in that year due to injury or something else, they will not be on this list.)  \n",
    "2. From this list extract each players' profile page link\n",
    "3. Go to each profile page and locate their Collegian link, part of that link will have their Collegian player id. \n",
    "- for the first year, go through every players' profile\n",
    "- for the following years, just find new players/players who did not play in the previous year\n",
    "4. Store that info in a seperate table which is then downloaded as CSV. "
   ]
  },
  {
   "cell_type": "code",
   "execution_count": 134,
   "id": "9ff3f825-95b3-47dd-b31c-1ff804ba5876",
   "metadata": {},
   "outputs": [],
   "source": [
    "from bs4 import BeautifulSoup\n",
    "import requests\n",
    "import re\n",
    "import pandas as pd\n",
    "from lxml import etree, html\n",
    "import os\n",
    "import numpy as np\n",
    "from datetime import datetime\n",
    "pd.set_option(\"display.max_rows\", 200)\n",
    "pd.set_option(\"display.max_columns\", 100)\n",
    "pd.set_option(\"display.max_colwidth\", 200)"
   ]
  },
  {
   "cell_type": "markdown",
   "id": "30efc906-9251-4198-a679-1ed48acdbc8f",
   "metadata": {},
   "source": [
    "**If updating the player_id_lookup table, first load the current table**"
   ]
  },
  {
   "cell_type": "code",
   "execution_count": 402,
   "id": "9457be37-5dce-479e-b99a-e61d27f4efae",
   "metadata": {},
   "outputs": [],
   "source": [
    "player_id_lookup = pd.read_csv('02_database/player_id_lookup.csv')"
   ]
  },
  {
   "cell_type": "markdown",
   "id": "68a2d7f4-03e3-4023-94b3-6bc3f397281c",
   "metadata": {},
   "source": [
    "**player_id_lookup clean up**"
   ]
  },
  {
   "cell_type": "code",
   "execution_count": 398,
   "id": "cc59a80b-3f05-4bab-a2be-77e85a2c8f63",
   "metadata": {},
   "outputs": [
    {
     "data": {
      "text/html": [
       "<div>\n",
       "<style scoped>\n",
       "    .dataframe tbody tr th:only-of-type {\n",
       "        vertical-align: middle;\n",
       "    }\n",
       "\n",
       "    .dataframe tbody tr th {\n",
       "        vertical-align: top;\n",
       "    }\n",
       "\n",
       "    .dataframe thead th {\n",
       "        text-align: right;\n",
       "    }\n",
       "</style>\n",
       "<table border=\"1\" class=\"dataframe\">\n",
       "  <thead>\n",
       "    <tr style=\"text-align: right;\">\n",
       "      <th></th>\n",
       "      <th>name</th>\n",
       "      <th>cbb_link</th>\n",
       "      <th>nba_link</th>\n",
       "      <th>nba_player_id</th>\n",
       "      <th>cbb_player_id</th>\n",
       "    </tr>\n",
       "  </thead>\n",
       "  <tbody>\n",
       "    <tr>\n",
       "      <th>0</th>\n",
       "      <td>LeBron James</td>\n",
       "      <td>NaN</td>\n",
       "      <td>https://www.basketball-reference.com/players/j/jamesle01.html</td>\n",
       "      <td>jamesle01</td>\n",
       "      <td>NaN</td>\n",
       "    </tr>\n",
       "    <tr>\n",
       "      <th>1</th>\n",
       "      <td>Derrick Rose</td>\n",
       "      <td>https://www.sports-reference.com/cbb/players/derrick-rose-1.html</td>\n",
       "      <td>https://www.basketball-reference.com/players/r/rosede01.html</td>\n",
       "      <td>rosede01</td>\n",
       "      <td>derrick-rose-1</td>\n",
       "    </tr>\n",
       "  </tbody>\n",
       "</table>\n",
       "</div>"
      ],
      "text/plain": [
       "           name  \\\n",
       "0  LeBron James   \n",
       "1  Derrick Rose   \n",
       "\n",
       "                                                           cbb_link  \\\n",
       "0                                                               NaN   \n",
       "1  https://www.sports-reference.com/cbb/players/derrick-rose-1.html   \n",
       "\n",
       "                                                        nba_link  \\\n",
       "0  https://www.basketball-reference.com/players/j/jamesle01.html   \n",
       "1   https://www.basketball-reference.com/players/r/rosede01.html   \n",
       "\n",
       "  nba_player_id   cbb_player_id  \n",
       "0     jamesle01             NaN  \n",
       "1      rosede01  derrick-rose-1  "
      ]
     },
     "execution_count": 398,
     "metadata": {},
     "output_type": "execute_result"
    }
   ],
   "source": [
    "player_id_lookup['nba_player_id'] = player_id_lookup.nba_link.apply(lambda row: row[::-1]).str.strip().str.split('/',expand = True, n = 1)[0].apply(lambda row: row[::-1]).str.split('.',expand = True)[0]\n",
    "player_id_lookup['cbb_player_id'] = player_id_lookup.cbb_link.apply(lambda row: row[::-1] if(pd.notnull(row)) else np.nan).str.strip().str.split('/',expand = True, n = 1)[0].apply(lambda row: row[::-1] if(pd.notnull(row)) else np.nan).str.split('.',expand = True)[0]\n",
    "player_id_lookup.head(2)"
   ]
  },
  {
   "cell_type": "code",
   "execution_count": 399,
   "id": "58076ed2-113c-4544-8dd2-9022f2433002",
   "metadata": {},
   "outputs": [],
   "source": [
    "player_id_lookup.to_csv('02_database/player_id_lookup.csv', index = False)"
   ]
  },
  {
   "cell_type": "code",
   "execution_count": null,
   "id": "5f0b9071-b6a0-4dc0-b6c0-64bfd9049658",
   "metadata": {},
   "outputs": [],
   "source": []
  },
  {
   "cell_type": "markdown",
   "id": "6f0de0c5-a557-48ad-8034-c08d5bf74eb6",
   "metadata": {},
   "source": [
    "## START FROM HERE"
   ]
  },
  {
   "cell_type": "code",
   "execution_count": 416,
   "id": "d8cd5e66-bb7d-488e-83e1-72d2ccb9df56",
   "metadata": {},
   "outputs": [],
   "source": [
    "# find new players in nba_player table for which you do not have a row in look-up table\n",
    "# look up cbb id for those players only\n",
    "player_id_lookup = pd.read_csv('02_database/player_id_lookup.csv')\n",
    "nba_player = pd.read_csv('02_database/nba_player.csv')"
   ]
  },
  {
   "cell_type": "markdown",
   "id": "414e78fe-6e08-4f6a-9160-b522d0e0dbcd",
   "metadata": {},
   "source": [
    "## Updating player_id_lookup table with new players \n",
    "* after updating nba_player table, check which nba players are not in the `player_id_lookup` table\n",
    "* for each of those players, get their cbb link"
   ]
  },
  {
   "cell_type": "code",
   "execution_count": 437,
   "id": "4bc9cc32-c57b-4250-a2d9-e284870b5872",
   "metadata": {},
   "outputs": [
    {
     "data": {
      "text/html": [
       "<div>\n",
       "<style scoped>\n",
       "    .dataframe tbody tr th:only-of-type {\n",
       "        vertical-align: middle;\n",
       "    }\n",
       "\n",
       "    .dataframe tbody tr th {\n",
       "        vertical-align: top;\n",
       "    }\n",
       "\n",
       "    .dataframe thead th {\n",
       "        text-align: right;\n",
       "    }\n",
       "</style>\n",
       "<table border=\"1\" class=\"dataframe\">\n",
       "  <thead>\n",
       "    <tr style=\"text-align: right;\">\n",
       "      <th></th>\n",
       "      <th>player_id</th>\n",
       "      <th>name</th>\n",
       "      <th>link</th>\n",
       "    </tr>\n",
       "  </thead>\n",
       "  <tbody>\n",
       "    <tr>\n",
       "      <th>3</th>\n",
       "      <td>fournev01</td>\n",
       "      <td>Evan Fournier</td>\n",
       "      <td>https://www.basketball-reference.com/players/f/fournev01.html</td>\n",
       "    </tr>\n",
       "    <tr>\n",
       "      <th>11</th>\n",
       "      <td>millequ01</td>\n",
       "      <td>Quincy Miller</td>\n",
       "      <td>https://www.basketball-reference.com/players/m/millequ01.html</td>\n",
       "    </tr>\n",
       "  </tbody>\n",
       "</table>\n",
       "</div>"
      ],
      "text/plain": [
       "    player_id           name  \\\n",
       "3   fournev01  Evan Fournier   \n",
       "11  millequ01  Quincy Miller   \n",
       "\n",
       "                                                             link  \n",
       "3   https://www.basketball-reference.com/players/f/fournev01.html  \n",
       "11  https://www.basketball-reference.com/players/m/millequ01.html  "
      ]
     },
     "execution_count": 437,
     "metadata": {},
     "output_type": "execute_result"
    }
   ],
   "source": [
    "# Find new player is nba_player table that are not in player_id_lookup table\n",
    "new_players = nba_player.merge(player_id_lookup, how = 'left', right_on = 'nba_player_id',left_on = 'player_id',indicator = True)\n",
    "new_players = new_players.loc[(new_players['_merge'] != 'both'),['player_id','name_x']]\n",
    "new_players['link'] = new_players.player_id.apply(lambda x: 'https://www.basketball-reference.com/players/' + x[0] + '/' + x + '.html')\n",
    "new_players.rename(columns = {'name_x':'name'},inplace = True)\n",
    "new_players.head(2)"
   ]
  },
  {
   "cell_type": "markdown",
   "id": "3561a1cf-11db-4906-828e-dd51e4a12f72",
   "metadata": {},
   "source": [
    "**For each new player - get thier cbb link**"
   ]
  },
  {
   "cell_type": "code",
   "execution_count": 438,
   "id": "eed42be0-4bbc-43e1-9c6a-982543205158",
   "metadata": {},
   "outputs": [],
   "source": [
    "# convert df to tuples\n",
    "link_player_tpls = [tuple(x) for x in new_players.loc[:,['name','link']].to_numpy()] # only add in new players\n",
    "\n",
    "name_lst = []\n",
    "cbb_link = []\n",
    "nba_link = []\n",
    "for name, link in link_player_tpls:\n",
    "    url = link\n",
    "    page = requests.get(url)\n",
    "    soup = BeautifulSoup(page.text,'lxml')\n",
    "    cbb_info = soup.find_all('a',{'href':re.compile('https://www.sports-reference.com/cbb/players')})#[0].attrs['href']\n",
    "    if len(cbb_info) > 0:\n",
    "        name_lst.append(name)\n",
    "        cbb_link.append(cbb_info[0].attrs['href'])\n",
    "        nba_link.append(link)\n",
    "        # print(name, 'college')\n",
    "        # print(cbb_info[0].attrs['href'])\n",
    "    else:\n",
    "        name_lst.append(name)\n",
    "        cbb_link.append(np.nan)\n",
    "        nba_link.append(link)\n",
    "# store results in df        \n",
    "df = pd.DataFrame({'name':name_lst,'cbb_link':cbb_link,'nba_link':nba_link})\n",
    "# apply clean up\n",
    "df['nba_player_id'] = df.nba_link.apply(lambda row: row[::-1]).str.strip().str.split('/',expand = True, n = 1)[0].apply(lambda row: row[::-1]).str.split('.',expand = True)[0]\n",
    "df['cbb_player_id'] = df.cbb_link.apply(lambda row: row[::-1] if(pd.notnull(row)) else np.nan).str.strip().str.split('/',expand = True, n = 1)[0].apply(lambda row: row[::-1] if(pd.notnull(row)) else np.nan).str.split('.',expand = True)[0]\n"
   ]
  },
  {
   "cell_type": "code",
   "execution_count": 443,
   "id": "a0d2230a-1134-4c21-a315-af6efab70597",
   "metadata": {},
   "outputs": [],
   "source": [
    "# merge with the current table\n",
    "player_id_lookup = pd.concat([player_id_lookup,df],axis = 0)"
   ]
  },
  {
   "cell_type": "code",
   "execution_count": 448,
   "id": "6c22b073-79fa-40c4-931e-05f036fa518a",
   "metadata": {},
   "outputs": [],
   "source": [
    "player_id_lookup.to_csv('02_database/player_id_lookup.csv',index = False)"
   ]
  },
  {
   "cell_type": "markdown",
   "id": "fd750c9a-a089-42bf-a27a-56086cff8c96",
   "metadata": {},
   "source": [
    "# DON'T NEED THE REST"
   ]
  },
  {
   "cell_type": "code",
   "execution_count": 146,
   "id": "0f66719b-5ceb-4d49-b534-b1530018b859",
   "metadata": {},
   "outputs": [
    {
     "name": "stdout",
     "output_type": "stream",
     "text": [
      "working on year:  2009 13/08/2022 21:12:03\n",
      "working on year:  2010 13/08/2022 21:12:05\n",
      "working on year:  2011 13/08/2022 21:12:07\n",
      "working on year:  2012 13/08/2022 21:12:08\n"
     ]
    }
   ],
   "source": [
    "years = [2009,2010,2011,2012]\n",
    "url_root = 'https://www.basketball-reference.com/leagues/NBA_'  \n",
    "url_end='_per_game.html'\n",
    "link_player = pd.DataFrame()\n",
    "for year in years:\n",
    "    print('working on year: ',year, datetime.now().strftime(\"%d/%m/%Y %H:%M:%S\"))\n",
    "    url = url_root+str(year)+url_end\n",
    "    page = requests.get(url)\n",
    "    soup = BeautifulSoup(page.text,'lxml')\n",
    "\n",
    "    # get player name and link for their profile\n",
    "    link_root = 'https://www.basketball-reference.com'\n",
    "    player_link=[]\n",
    "    player_name = []\n",
    "    year_roster = []\n",
    "    full_table_tags = soup.find_all('a',{'href':re.compile('/players/')})\n",
    "    for i in full_table_tags[1:]:\n",
    "        player_link.append('https://www.basketball-reference.com'+i.attrs['href'])\n",
    "        player_name.append(i.text)\n",
    "        year_roster.append(year)\n",
    "        \n",
    "    df = pd.DataFrame({'name':player_name,'link':player_link,'year':year_roster}).drop_duplicates()\n",
    "    df.drop(df[df.name == 'Players'].index,inplace = True) # remove Players as a name\n",
    "    link_player = pd.concat([df,link_player],axis = 0)"
   ]
  },
  {
   "cell_type": "code",
   "execution_count": 188,
   "id": "5c0efe93-e176-4311-af9a-d1d7cf0e673b",
   "metadata": {},
   "outputs": [],
   "source": [
    "# Using 2009 as starting table, find all new players from 2010,2011,2012 years\n",
    "df = link_player.merge(player_id_lookup, how = 'left', left_on = 'link',right_on = 'nba_link')\n",
    "\n",
    "new_players = df.loc[df.name_y.isna(),['name_x','link','year']]\n",
    "new_players.rename(columns = {'name_x':'name'},inplace = True)"
   ]
  },
  {
   "cell_type": "markdown",
   "id": "917bd9f6-512e-4901-ab4c-7cc9baab0ba6",
   "metadata": {},
   "source": [
    "**go into player profile**"
   ]
  },
  {
   "cell_type": "code",
   "execution_count": 190,
   "id": "2bc6f6c0-0380-4294-b9e0-dffbce0e005b",
   "metadata": {},
   "outputs": [],
   "source": [
    "# convert df to tuples\n",
    "link_player_tpls = [tuple(x) for x in new_players.loc[:,['name','link']].to_numpy()] # only add in new players\n",
    "# link_player_tpls = [tuple(x) for x in link_player[link_player.year==2009].loc[:,['name','link']].to_numpy()] # 2009 only as base line\n",
    "name_lst = []\n",
    "cbb_link = []\n",
    "nba_link = []\n",
    "for name, link in link_player_tpls:\n",
    "    url = link\n",
    "    page = requests.get(url)\n",
    "    soup = BeautifulSoup(page.text,'lxml')\n",
    "    cbb_info = soup.find_all('a',{'href':re.compile('https://www.sports-reference.com/cbb/players')})#[0].attrs['href']\n",
    "    if len(cbb_info) > 0:\n",
    "        name_lst.append(name)\n",
    "        cbb_link.append(cbb_info[0].attrs['href'])\n",
    "        nba_link.append(link)\n",
    "        # print(name, 'college')\n",
    "        # print(cbb_info[0].attrs['href'])\n",
    "    else:\n",
    "        name_lst.append(name)\n",
    "        cbb_link.append(np.nan)\n",
    "        nba_link.append(link)\n",
    "# store results in df        \n",
    "df = pd.DataFrame({'name':name_lst,'cbb_link':cbb_link,'nba_link':nba_link})"
   ]
  },
  {
   "cell_type": "code",
   "execution_count": 196,
   "id": "67b44434-2d8f-4d47-9862-daf606fe003e",
   "metadata": {},
   "outputs": [],
   "source": [
    "# append results to the current lookup table\n",
    "player_id_lookup = pd.concat([player_id_lookup,df])"
   ]
  },
  {
   "cell_type": "code",
   "execution_count": 198,
   "id": "77774a0f-168a-4cc6-b80e-ebc5c160e326",
   "metadata": {},
   "outputs": [],
   "source": [
    "# save the base table as csv\n",
    "player_id_lookup.to_csv('player_id_lookup_2009_base.csv',index = False)"
   ]
  },
  {
   "cell_type": "code",
   "execution_count": null,
   "id": "b960de66-8937-4819-ba70-54a727ecee26",
   "metadata": {},
   "outputs": [],
   "source": []
  },
  {
   "cell_type": "code",
   "execution_count": null,
   "id": "93496597-7969-4f02-879d-93441d94ca90",
   "metadata": {},
   "outputs": [],
   "source": []
  },
  {
   "cell_type": "markdown",
   "id": "b43dbfdd-9bbc-48c1-ab26-d74af3555220",
   "metadata": {},
   "source": [
    "#### Clean up the lookup table\n",
    "- remove duplicate names where the names are L.James instead of LeBron James. Should be just a small handfull\n",
    "- create a sperate columns for the two IDs. Currently they are still in the links"
   ]
  },
  {
   "cell_type": "code",
   "execution_count": 199,
   "id": "18a8fd84-8603-451c-892c-43bda07ac4ae",
   "metadata": {},
   "outputs": [
    {
     "data": {
      "text/html": [
       "<div>\n",
       "<style scoped>\n",
       "    .dataframe tbody tr th:only-of-type {\n",
       "        vertical-align: middle;\n",
       "    }\n",
       "\n",
       "    .dataframe tbody tr th {\n",
       "        vertical-align: top;\n",
       "    }\n",
       "\n",
       "    .dataframe thead th {\n",
       "        text-align: right;\n",
       "    }\n",
       "</style>\n",
       "<table border=\"1\" class=\"dataframe\">\n",
       "  <thead>\n",
       "    <tr style=\"text-align: right;\">\n",
       "      <th></th>\n",
       "      <th>name</th>\n",
       "      <th>cbb_link</th>\n",
       "      <th>nba_link</th>\n",
       "    </tr>\n",
       "  </thead>\n",
       "  <tbody>\n",
       "    <tr>\n",
       "      <th>0</th>\n",
       "      <td>LeBron James</td>\n",
       "      <td>NaN</td>\n",
       "      <td>https://www.basketball-reference.com/players/j/jamesle01.html</td>\n",
       "    </tr>\n",
       "    <tr>\n",
       "      <th>1</th>\n",
       "      <td>Derrick Rose</td>\n",
       "      <td>https://www.sports-reference.com/cbb/players/derrick-rose-1.html</td>\n",
       "      <td>https://www.basketball-reference.com/players/r/rosede01.html</td>\n",
       "    </tr>\n",
       "    <tr>\n",
       "      <th>2</th>\n",
       "      <td>Dwyane Wade</td>\n",
       "      <td>https://www.sports-reference.com/cbb/players/dwyane-wade-1.html</td>\n",
       "      <td>https://www.basketball-reference.com/players/w/wadedw01.html</td>\n",
       "    </tr>\n",
       "    <tr>\n",
       "      <th>3</th>\n",
       "      <td>Dwight Howard</td>\n",
       "      <td>NaN</td>\n",
       "      <td>https://www.basketball-reference.com/players/h/howardw01.html</td>\n",
       "    </tr>\n",
       "    <tr>\n",
       "      <th>4</th>\n",
       "      <td>Chris Paul</td>\n",
       "      <td>https://www.sports-reference.com/cbb/players/chris-paul-1.html</td>\n",
       "      <td>https://www.basketball-reference.com/players/p/paulch01.html</td>\n",
       "    </tr>\n",
       "  </tbody>\n",
       "</table>\n",
       "</div>"
      ],
      "text/plain": [
       "            name  \\\n",
       "0   LeBron James   \n",
       "1   Derrick Rose   \n",
       "2    Dwyane Wade   \n",
       "3  Dwight Howard   \n",
       "4     Chris Paul   \n",
       "\n",
       "                                                           cbb_link  \\\n",
       "0                                                               NaN   \n",
       "1  https://www.sports-reference.com/cbb/players/derrick-rose-1.html   \n",
       "2   https://www.sports-reference.com/cbb/players/dwyane-wade-1.html   \n",
       "3                                                               NaN   \n",
       "4    https://www.sports-reference.com/cbb/players/chris-paul-1.html   \n",
       "\n",
       "                                                        nba_link  \n",
       "0  https://www.basketball-reference.com/players/j/jamesle01.html  \n",
       "1   https://www.basketball-reference.com/players/r/rosede01.html  \n",
       "2   https://www.basketball-reference.com/players/w/wadedw01.html  \n",
       "3  https://www.basketball-reference.com/players/h/howardw01.html  \n",
       "4   https://www.basketball-reference.com/players/p/paulch01.html  "
      ]
     },
     "execution_count": 199,
     "metadata": {},
     "output_type": "execute_result"
    }
   ],
   "source": [
    "player_id_lookup.head()"
   ]
  },
  {
   "cell_type": "markdown",
   "id": "1e015a52-cd82-4388-a30f-0602ecc39c16",
   "metadata": {},
   "source": [
    "## Keep for later"
   ]
  },
  {
   "cell_type": "code",
   "execution_count": 130,
   "id": "892eee66-be44-42d5-93cc-7b3766664dc8",
   "metadata": {},
   "outputs": [
    {
     "data": {
      "text/html": [
       "<div>\n",
       "<style scoped>\n",
       "    .dataframe tbody tr th:only-of-type {\n",
       "        vertical-align: middle;\n",
       "    }\n",
       "\n",
       "    .dataframe tbody tr th {\n",
       "        vertical-align: top;\n",
       "    }\n",
       "\n",
       "    .dataframe thead th {\n",
       "        text-align: right;\n",
       "    }\n",
       "</style>\n",
       "<table border=\"1\" class=\"dataframe\">\n",
       "  <thead>\n",
       "    <tr style=\"text-align: right;\">\n",
       "      <th></th>\n",
       "      <th>name</th>\n",
       "      <th>link</th>\n",
       "    </tr>\n",
       "  </thead>\n",
       "  <tbody>\n",
       "    <tr>\n",
       "      <th>0</th>\n",
       "      <td>LeBron James</td>\n",
       "      <td>https://www.basketball-reference.com/players/j/jamesle01.html</td>\n",
       "    </tr>\n",
       "    <tr>\n",
       "      <th>2</th>\n",
       "      <td>Kevin Durant</td>\n",
       "      <td>https://www.basketball-reference.com/players/d/duranke01.html</td>\n",
       "    </tr>\n",
       "    <tr>\n",
       "      <th>126</th>\n",
       "      <td>Stephen Curry</td>\n",
       "      <td>https://www.basketball-reference.com/players/c/curryst01.html</td>\n",
       "    </tr>\n",
       "    <tr>\n",
       "      <th>217</th>\n",
       "      <td>James Harden</td>\n",
       "      <td>https://www.basketball-reference.com/players/h/hardeja01.html</td>\n",
       "    </tr>\n",
       "    <tr>\n",
       "      <th>430</th>\n",
       "      <td>Chris Paul</td>\n",
       "      <td>https://www.basketball-reference.com/players/p/paulch01.html</td>\n",
       "    </tr>\n",
       "    <tr>\n",
       "      <th>585</th>\n",
       "      <td>L. James</td>\n",
       "      <td>https://www.basketball-reference.com/players/j/jamesle01.html</td>\n",
       "    </tr>\n",
       "    <tr>\n",
       "      <th>586</th>\n",
       "      <td>K. Durant</td>\n",
       "      <td>https://www.basketball-reference.com/players/d/duranke01.html</td>\n",
       "    </tr>\n",
       "    <tr>\n",
       "      <th>588</th>\n",
       "      <td>J. Harden</td>\n",
       "      <td>https://www.basketball-reference.com/players/h/hardeja01.html</td>\n",
       "    </tr>\n",
       "    <tr>\n",
       "      <th>589</th>\n",
       "      <td>S. Curry</td>\n",
       "      <td>https://www.basketball-reference.com/players/c/curryst01.html</td>\n",
       "    </tr>\n",
       "    <tr>\n",
       "      <th>601</th>\n",
       "      <td>C. Paul</td>\n",
       "      <td>https://www.basketball-reference.com/players/p/paulch01.html</td>\n",
       "    </tr>\n",
       "  </tbody>\n",
       "</table>\n",
       "</div>"
      ],
      "text/plain": [
       "              name  \\\n",
       "0     LeBron James   \n",
       "2     Kevin Durant   \n",
       "126  Stephen Curry   \n",
       "217   James Harden   \n",
       "430     Chris Paul   \n",
       "585       L. James   \n",
       "586      K. Durant   \n",
       "588      J. Harden   \n",
       "589       S. Curry   \n",
       "601        C. Paul   \n",
       "\n",
       "                                                              link  \n",
       "0    https://www.basketball-reference.com/players/j/jamesle01.html  \n",
       "2    https://www.basketball-reference.com/players/d/duranke01.html  \n",
       "126  https://www.basketball-reference.com/players/c/curryst01.html  \n",
       "217  https://www.basketball-reference.com/players/h/hardeja01.html  \n",
       "430   https://www.basketball-reference.com/players/p/paulch01.html  \n",
       "585  https://www.basketball-reference.com/players/j/jamesle01.html  \n",
       "586  https://www.basketball-reference.com/players/d/duranke01.html  \n",
       "588  https://www.basketball-reference.com/players/h/hardeja01.html  \n",
       "589  https://www.basketball-reference.com/players/c/curryst01.html  \n",
       "601   https://www.basketball-reference.com/players/p/paulch01.html  "
      ]
     },
     "execution_count": 130,
     "metadata": {},
     "output_type": "execute_result"
    }
   ],
   "source": [
    "# duplicate names in link_player\n",
    "# only a few, can get rid of them later on\n",
    "x = link_player.groupby(['link'])['name'].count().sort_values(ascending = False)\n",
    "link_player[link_player.link.isin(list(x[x>1].index))]"
   ]
  },
  {
   "cell_type": "code",
   "execution_count": null,
   "id": "adc5447c-5279-4295-aa35-af7ae080fedb",
   "metadata": {},
   "outputs": [],
   "source": []
  },
  {
   "cell_type": "code",
   "execution_count": null,
   "id": "fb10113c-ef02-4031-babb-6894cacf74c7",
   "metadata": {},
   "outputs": [],
   "source": []
  },
  {
   "cell_type": "markdown",
   "id": "a4d0d005-077d-49ef-81a9-d17c499cf732",
   "metadata": {},
   "source": [
    "## TESTS"
   ]
  },
  {
   "cell_type": "markdown",
   "id": "e3bd8d6f-4aef-4e65-b71c-f07b0996b227",
   "metadata": {},
   "source": [
    "**NCAA Loop - get all player ids**"
   ]
  },
  {
   "cell_type": "code",
   "execution_count": null,
   "id": "3e0b6fd6-22fd-4f0e-bfb9-7ff6fa868489",
   "metadata": {},
   "outputs": [],
   "source": [
    "# from sportsipy.ncaab.teams import Teams\n",
    "\n",
    "# years = [2010,2011,2012]\n",
    "# for year in years:\n",
    "#     teams = Teams(year = year)\n",
    "#     team_lst = [team for team in teams] # all teams in a list allows me to select just a subset of teams for testing\n",
    "\n",
    "#     df = pd.DataFrame()\n",
    "\n",
    "#     for i, team in enumerate(team_lst):\n",
    "#         print(str(year)+':'+str(i)+' of '+str(len(team_lst))+':'+ team.name +'start at: '+datetime.now().strftime(\"%d/%m/%Y %H:%M:%S\"))\n",
    "#         roster = team.roster  # Gets each team's roster\n",
    "#         for player in roster.players:\n",
    "#             player_df = pd.concat([player.dataframe.reset_index(),pd.DataFrame({'name':[player.name]*player.dataframe.shape[0]})],axis = 1) # add name to df\n",
    "#             df = pd.concat([df,player_df],axis = 0)\n",
    "#     # create csv\n",
    "#     df.to_csv('cbb_'+str(year)+'.csv',index = False)"
   ]
  },
  {
   "cell_type": "markdown",
   "id": "8619317c-1f82-4399-9e1c-4ced47cc1e15",
   "metadata": {},
   "source": [
    "**Get awards for each player**  \n",
    "first need to get all the player IDs from the code above"
   ]
  },
  {
   "cell_type": "code",
   "execution_count": 290,
   "id": "e15422f6-c257-4b91-97c1-678d76d41ba4",
   "metadata": {},
   "outputs": [],
   "source": [
    "# url_root = 'https://www.sports-reference.com/cbb/players/'\n",
    "\n",
    "# # list of all player id to loop through\n",
    "# player_id = ['temetrius-morant-1','aaron-douglas-2']\n",
    "\n",
    "# # empty link to hold results\n",
    "# # player_id::award::award category on website\n",
    "# awards = []\n",
    "\n",
    "# for id_ in player_id:\n",
    "#     url = url_root+id_+'.html'\n",
    "#     response = requests.get(url)\n",
    "#     html = response.text\n",
    "#     html = html.replace('<!--', '').replace('-->', '')\n",
    "#     soup = BeautifulSoup(html, 'lxml')\n",
    "#     leaderboard = soup.find_all('div', {'id':re.compile('leaderboard_')})\n",
    "    \n",
    "#     # check if player has awards\n",
    "#     if len(leaderboard)>0:\n",
    "#         for l in leaderboard[1:]:\n",
    "#             for i in l.find_all('td',{'class':'single'}):\n",
    "#                 awards.append(id_ + '::' +i.text +'::' + l.find('caption',{'class':'poptip'}).text)\n",
    "#     else:\n",
    "#         awards.append(id_ + '::' +'no_awards' +'::' +'no_awards')"
   ]
  },
  {
   "cell_type": "code",
   "execution_count": null,
   "id": "7e6807b6-58e1-4057-a387-cb0900a3bc29",
   "metadata": {},
   "outputs": [],
   "source": []
  },
  {
   "cell_type": "code",
   "execution_count": 293,
   "id": "e6332bb0-f0c6-45a5-ad20-94320fc817b5",
   "metadata": {},
   "outputs": [
    {
     "data": {
      "text/plain": [
       "0                  temetrius-morant-1::2018-19 All-OVC - 1st Team::Awards\n",
       "1    temetrius-morant-1::2018-19 Consensus All-America - 1st Team::Awards\n",
       "2            temetrius-morant-1::2018-19 Naismith Award Finalists::Awards\n",
       "3        temetrius-morant-1::2018-19 Naismith Award Semifinalists::Awards\n",
       "dtype: object"
      ]
     },
     "execution_count": 293,
     "metadata": {},
     "output_type": "execute_result"
    }
   ],
   "source": [
    "# clean this up\n",
    "pd.Series(awards).head(4)"
   ]
  },
  {
   "cell_type": "code",
   "execution_count": null,
   "id": "ad15a0cb-6d96-4b57-925d-4edf2a5ad30c",
   "metadata": {},
   "outputs": [],
   "source": [
    "#### DONE, DONT NEED CODE BELOW!!"
   ]
  },
  {
   "cell_type": "code",
   "execution_count": 275,
   "id": "4a5faa2e-57a8-45e4-8068-8c42b895772e",
   "metadata": {},
   "outputs": [],
   "source": [
    "### awards from players' profile\n",
    "url = 'https://www.sports-reference.com/cbb/players/temetrius-morant-1.html'\n",
    "response = requests.get(url)\n",
    "html = response.text\n",
    "html = html.replace('<!--', '').replace('-->', '')\n",
    "\n",
    "soup = BeautifulSoup(html, 'lxml')\n",
    "leaderboard = soup.find_all('div', {'id':re.compile('leaderboard_')})\n",
    "\n",
    "# all awards and name of award group separated by ::\n",
    "awards = []\n",
    "for l in leaderboard[1:]:\n",
    "    for i in l.find_all('td',{'class':'single'}):\n",
    "        awards.append(i.text +'::' + l.find('caption',{'class':'poptip'}).text)\n",
    "\n",
    "        \n",
    "        \n",
    "# awards_sub_rect = []\n",
    "# for i in awards_rect:\n",
    "#     awards_sub_rect.append(i)\n",
    "\n",
    "# award_lst = []\n",
    "# award_cat = []\n",
    "\n",
    "# for i in awards_html:\n",
    "#     for a in i:\n",
    "#         a.find_all()"
   ]
  },
  {
   "cell_type": "code",
   "execution_count": 202,
   "id": "f5afabad-b4a9-4858-8947-0b42812232d0",
   "metadata": {},
   "outputs": [],
   "source": [
    "url = 'https://www.sports-reference.com/cbb/players/kevin-durant-1.html'\n",
    "page = requests.get(url)\n",
    "soup = BeautifulSoup(page.text,'lxml')"
   ]
  },
  {
   "cell_type": "code",
   "execution_count": 203,
   "id": "90d68fae-2cdf-427f-8c9e-0049919f62fd",
   "metadata": {},
   "outputs": [],
   "source": [
    "url = 'https://www.sports-reference.com/cbb/players/temetrius-morant-1.html'\n",
    "response = requests.get(url)\n",
    "html = response.text\n",
    "html = html.replace('<!--', '').replace('-->', '')\n",
    "\n",
    "soup = BeautifulSoup(html, 'html.parser')\n",
    "leaderboard_pts = soup.find('div', {'id':'leaderboard_pts'})"
   ]
  },
  {
   "cell_type": "code",
   "execution_count": 204,
   "id": "bde5cdae-fa0d-451f-ae1a-b712501ff563",
   "metadata": {},
   "outputs": [
    {
     "data": {
      "text/plain": [
       "<div class=\"data_grid_box\" id=\"leaderboard_pts\">\n",
       "<table class=\"no_columns\">\n",
       "<caption class=\"poptip\" data-tip=\"Points\">Points</caption> <tr class=\"\"> <td class=\"single\"><a href=\"/cbb/conferences/ovc/2018-leaders.html\">2017-18</a> <a href=\"/cbb/conferences/ovc/2018-leaders.html\">OVC</a> 405 (18th)</td>\n",
       "</tr>\n",
       "<tr class=\"\"> <td class=\"single\"><a href=\"/cbb/seasons/2019-leaders.html\">2018-19</a> <a href=\"/cbb/seasons/2019-leaders.html\">NCAA</a> 808 (9th)</td>\n",
       "</tr>\n",
       "<tr class=\"first_place\"> <td class=\"single\"><a href=\"/cbb/conferences/ovc/2019-leaders.html\">2018-19</a> <a href=\"/cbb/conferences/ovc/2019-leaders.html\">OVC</a> 808 (1st)</td>\n",
       "</tr>\n",
       "</table>\n",
       "<button onclick=\"vjs_addClass(document.getElementById('leaderboard_pts'),'show_all')\">3 Seasons in Top 20</button>\n",
       "</div>"
      ]
     },
     "execution_count": 204,
     "metadata": {},
     "output_type": "execute_result"
    }
   ],
   "source": [
    "leaderboard_pts"
   ]
  },
  {
   "cell_type": "code",
   "execution_count": 203,
   "id": "1c5d8981-2092-49ef-82a8-ea255f8c63f6",
   "metadata": {},
   "outputs": [
    {
     "data": {
      "text/html": [
       "<div>\n",
       "<style scoped>\n",
       "    .dataframe tbody tr th:only-of-type {\n",
       "        vertical-align: middle;\n",
       "    }\n",
       "\n",
       "    .dataframe tbody tr th {\n",
       "        vertical-align: top;\n",
       "    }\n",
       "\n",
       "    .dataframe thead th {\n",
       "        text-align: right;\n",
       "    }\n",
       "</style>\n",
       "<table border=\"1\" class=\"dataframe\">\n",
       "  <thead>\n",
       "    <tr style=\"text-align: right;\">\n",
       "      <th></th>\n",
       "      <th>0</th>\n",
       "    </tr>\n",
       "  </thead>\n",
       "  <tbody>\n",
       "    <tr>\n",
       "      <th>0</th>\n",
       "      <td>2017-18 OVC 405 (18th)</td>\n",
       "    </tr>\n",
       "    <tr>\n",
       "      <th>1</th>\n",
       "      <td>2018-19 NCAA 808 (9th)</td>\n",
       "    </tr>\n",
       "    <tr>\n",
       "      <th>2</th>\n",
       "      <td>2018-19 OVC 808 (1st)</td>\n",
       "    </tr>\n",
       "  </tbody>\n",
       "</table>\n",
       "</div>"
      ],
      "text/plain": [
       "                        0\n",
       "0  2017-18 OVC 405 (18th)\n",
       "1  2018-19 NCAA 808 (9th)\n",
       "2   2018-19 OVC 808 (1st)"
      ]
     },
     "execution_count": 203,
     "metadata": {},
     "output_type": "execute_result"
    }
   ],
   "source": [
    "df = pd.read_html(str(leaderboard_pts))[0]\n",
    "df"
   ]
  },
  {
   "cell_type": "code",
   "execution_count": 246,
   "id": "2d5500c6-004e-4c3d-b52b-6ae22b9904bc",
   "metadata": {},
   "outputs": [],
   "source": [
    "specific_award = []\n",
    "for i in awards_sub_rect:#\n",
    "    specific_award.append(i.find_all('td',{'class':'single'}))\n"
   ]
  },
  {
   "cell_type": "code",
   "execution_count": 289,
   "id": "4d92c6b7-e4ce-4b17-a838-c73189afb473",
   "metadata": {},
   "outputs": [
    {
     "name": "stdout",
     "output_type": "stream",
     "text": [
      "temetrius-morant-1::no_awards::no_awards\n"
     ]
    }
   ],
   "source": [
    "# player without awars\n",
    "url = 'https://www.sports-reference.com/cbb/players/aaron-douglas-2.html'\n",
    "response = requests.get(url)\n",
    "html = response.text\n",
    "html = html.replace('<!--','').replace('-->','')\n",
    "soup = BeautifulSoup(html, 'lxml')\n",
    "\n",
    "leaderboard = soup.find_all('div', {'id':re.compile('leaderboard_')})\n",
    "if len(leaderboard)>0:\n",
    "    print('do normal code')\n",
    "else:\n",
    "    print(id_ + '::' +'no_awards' +'::' +'no_awards')"
   ]
  },
  {
   "cell_type": "code",
   "execution_count": 287,
   "id": "80cba4c3-30f3-4e0d-bb38-b26e51ee5ddd",
   "metadata": {},
   "outputs": [
    {
     "data": {
      "text/plain": [
       "0"
      ]
     },
     "execution_count": 287,
     "metadata": {},
     "output_type": "execute_result"
    }
   ],
   "source": [
    "len(leaderboard)"
   ]
  },
  {
   "cell_type": "code",
   "execution_count": 238,
   "id": "7ad26fbd-84a8-4d6d-9547-d42ade583edf",
   "metadata": {},
   "outputs": [
    {
     "name": "stdout",
     "output_type": "stream",
     "text": [
      "2018-19 All-OVC - 1st Team\n",
      "2018-19 Consensus All-America - 1st Team\n",
      "2018-19 Naismith Award Finalists\n",
      "2018-19 Naismith Award Semifinalists\n",
      "2018-19 OVC Player of the Year\n",
      "2018-19 The Bob Cousy Award\n",
      "2018-19 USBWA Player of the Year Finalists\n",
      "2018-19 Wooden Award - Finalists\n",
      "2018-19 Wooden Award - Late Season\n",
      "2018-19 Wooden Award - Midseason\n",
      "2018-19 Wooden Award - National Ballot\n",
      "2019 All-OVC Tournament - 1st Team\n",
      "2019 OVC Tournament MVP\n"
     ]
    }
   ],
   "source": [
    "# list of awards\n",
    "for i in x.find_all('div', {'id':re.compile('leaderboard_')})[0].find_all('td',{'class':'single'}):\n",
    "    print(i.text)"
   ]
  },
  {
   "cell_type": "code",
   "execution_count": 227,
   "id": "9e2f9a8a-24c1-4d21-ba71-2c6b6d90c707",
   "metadata": {},
   "outputs": [
    {
     "name": "stdout",
     "output_type": "stream",
     "text": [
      "<div class=\"data_grid_box\" id=\"leaderboard_pts_per_g\">\n",
      " <table class=\"no_columns\">\n",
      "  <caption class=\"poptip\" data-tip=\"Points Per Game\">\n",
      "   Points Per Game\n",
      "  </caption>\n",
      "  <tr class=\"\">\n",
      "   <td class=\"single\">\n",
      "    <a href=\"/cbb/conferences/ovc/2018-leaders.html\">\n",
      "     2017-18\n",
      "    </a>\n",
      "    <a href=\"/cbb/conferences/ovc/2018-leaders.html\">\n",
      "     OVC\n",
      "    </a>\n",
      "    12.7 (19th)\n",
      "   </td>\n",
      "  </tr>\n",
      "  <tr class=\"\">\n",
      "   <td class=\"single\">\n",
      "    <a href=\"/cbb/seasons/2019-leaders.html\">\n",
      "     2018-19\n",
      "    </a>\n",
      "    <a href=\"/cbb/seasons/2019-leaders.html\">\n",
      "     NCAA\n",
      "    </a>\n",
      "    24.5 (7th)\n",
      "   </td>\n",
      "  </tr>\n",
      "  <tr class=\"first_place\">\n",
      "   <td class=\"single\">\n",
      "    <a href=\"/cbb/conferences/ovc/2019-leaders.html\">\n",
      "     2018-19\n",
      "    </a>\n",
      "    <a href=\"/cbb/conferences/ovc/2019-leaders.html\">\n",
      "     OVC\n",
      "    </a>\n",
      "    24.5 (1st)\n",
      "   </td>\n",
      "  </tr>\n",
      " </table>\n",
      " <button onclick=\"vjs_addClass(document.getElementById('leaderboard_pts_per_g'),'show_all')\">\n",
      "  3 Seasons in Top 20\n",
      " </button>\n",
      "</div>\n",
      "\n"
     ]
    }
   ],
   "source": [
    "\n",
    "x = soup.find('div',{'class':'data_grid'})\n",
    "print(x.find_all('div', {'id':re.compile('leaderboard_')})[2].prettify())"
   ]
  },
  {
   "cell_type": "code",
   "execution_count": null,
   "id": "7c552068-448a-4ad7-a712-ff3cfda2782b",
   "metadata": {},
   "outputs": [],
   "source": []
  }
 ],
 "metadata": {
  "kernelspec": {
   "display_name": "Python 3 (ipykernel)",
   "language": "python",
   "name": "python3"
  },
  "language_info": {
   "codemirror_mode": {
    "name": "ipython",
    "version": 3
   },
   "file_extension": ".py",
   "mimetype": "text/x-python",
   "name": "python",
   "nbconvert_exporter": "python",
   "pygments_lexer": "ipython3",
   "version": "3.8.8"
  }
 },
 "nbformat": 4,
 "nbformat_minor": 5
}
