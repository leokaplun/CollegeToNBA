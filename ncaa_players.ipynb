{
 "cells": [
  {
   "cell_type": "markdown",
   "id": "a25d34f4-96ac-4458-ac1d-6c85edf422ff",
   "metadata": {},
   "source": [
    "This code loops through all the teams in college basketball form years 2010,2011,2012 and stores the results in CSV.  \n",
    "For some reason 2009 is not working using `sportsipy` packages. May need to just extract it manually.\n",
    "\n",
    "**17-08-22:**. \n",
    "The API does not work well when player changes teams. It just seems to pick up the last team and repeat that value.  \n",
    "The stats are correct and conference is correct, just the school name is not correct.  \n",
    "e.g. `player_id == 'anali-okoloji-1'`"
   ]
  },
  {
   "cell_type": "code",
   "execution_count": 1,
   "id": "a60fb872-2bb1-4d3b-b425-fc05697946ef",
   "metadata": {},
   "outputs": [],
   "source": [
    "from bs4 import BeautifulSoup\n",
    "import requests\n",
    "import re\n",
    "import pandas as pd\n",
    "from lxml import etree, html\n",
    "import os\n",
    "import numpy as np\n",
    "from datetime import datetime\n",
    "from sportsipy.ncaab.teams import Teams\n",
    "pd.set_option(\"display.max_rows\", 200)\n",
    "pd.set_option(\"display.max_columns\", 100)\n",
    "pd.set_option(\"display.max_colwidth\", 200)"
   ]
  },
  {
   "cell_type": "markdown",
   "id": "608de2f4-2a43-480b-ac77-0a3e7acdcaa3",
   "metadata": {},
   "source": [
    "**NCAA Loop - get all player ids**  \n",
    "Done for 2010,2011,2012   \n",
    "Done for 2013,2014,2015,2016"
   ]
  },
  {
   "cell_type": "code",
   "execution_count": null,
   "id": "76bf77ff-77c8-4fc4-a4e1-a9356f0b16d9",
   "metadata": {},
   "outputs": [],
   "source": [
    "years = [2013,2014,2015,2016]\n",
    "for year in years:\n",
    "    teams = Teams(year = year)\n",
    "    team_lst = [team for team in teams] # all teams in a list allows me to select just a subset of teams for testing\n",
    "\n",
    "    df = pd.DataFrame()\n",
    "\n",
    "    for i, team in enumerate(team_lst):\n",
    "        print(str(year)+':'+str(i)+' of '+str(len(team_lst))+':'+ team.name +'start at: '+datetime.now().strftime(\"%d/%m/%Y %H:%M:%S\"))\n",
    "        roster = team.roster  # Gets each team's roster\n",
    "        for player in roster.players:\n",
    "            player_df = pd.concat([player.dataframe.reset_index(),pd.DataFrame({'name':[player.name]*player.dataframe.shape[0]})],axis = 1) # add name to df\n",
    "            df = pd.concat([df,player_df],axis = 0)\n",
    "    # create csv\n",
    "    df.to_csv('cbb_'+str(year)+'.csv',index = False)"
   ]
  },
  {
   "cell_type": "markdown",
   "id": "ae2d6617-7040-49fc-8bb2-df447fa762c3",
   "metadata": {
    "tags": []
   },
   "source": [
    "## Create tables from output\n",
    "* when you get new data, just run the whole thing again"
   ]
  },
  {
   "cell_type": "markdown",
   "id": "15c0b5f8-4ac8-4bbc-b0ea-5f609825b8c0",
   "metadata": {},
   "source": [
    "**Create table player_cbb**"
   ]
  },
  {
   "cell_type": "markdown",
   "id": "fa70fbe2-dcfd-4f6d-b3ce-852636efa8e0",
   "metadata": {},
   "source": [
    "Separate into:\n",
    "1. cbb_player: player_id, name\n",
    "2. cbb_player_stats: player_id, school, stats...\n",
    "3. cbb_player_career_stats: player_id, career stats\n",
    "4. cbb_player_school: player_id, school details, season"
   ]
  },
  {
   "cell_type": "markdown",
   "id": "92f4a76a-2dbe-42fe-a94a-aa574071bc65",
   "metadata": {},
   "source": [
    "**Create cbb_player**"
   ]
  },
  {
   "cell_type": "code",
   "execution_count": 146,
   "id": "f6991042-5bbd-4ae3-aaa6-e45626d8e600",
   "metadata": {},
   "outputs": [],
   "source": [
    "files = os.listdir('01_raw_csv_files')\n",
    "files_csv = [f for f in files if f[-3:] == 'csv' and f[:3]=='cbb']\n",
    "\n",
    "cbb_player = pd.DataFrame()\n",
    "for file in files_csv:\n",
    "    df = pd.read_csv('01_raw_csv_files/'+file)\n",
    "    cbb_player = pd.concat([cbb_player,df.loc[:,['player_id','name']].drop_duplicates().reset_index(drop=True)])\n",
    "cbb_player = cbb_player.drop_duplicates().reset_index(drop= True)    "
   ]
  },
  {
   "cell_type": "code",
   "execution_count": 147,
   "id": "fd5efccd-2d99-4e3d-9234-991bde52f73b",
   "metadata": {},
   "outputs": [],
   "source": [
    "cbb_player.to_csv('02_database/cbb_player.csv',index=False)"
   ]
  },
  {
   "cell_type": "markdown",
   "id": "964eeece-bf3d-4af2-9a8d-f9e558e6bc72",
   "metadata": {
    "tags": []
   },
   "source": [
    "**Create cbb_player_stats**"
   ]
  },
  {
   "cell_type": "code",
   "execution_count": 148,
   "id": "9802ec27-3f57-477c-b331-d28899e3c64a",
   "metadata": {},
   "outputs": [],
   "source": [
    "files = os.listdir('01_raw_csv_files')\n",
    "files_csv = [f for f in files if f[-3:] == 'csv' and f[:3]=='cbb']\n",
    "\n",
    "cbb_player_stats = pd.DataFrame()\n",
    "for file in files_csv:\n",
    "    df = pd.read_csv('01_raw_csv_files/'+file)\n",
    "    cbb_player_stats = pd.concat([cbb_player_stats,df.loc[(df.level_0 != 'Career'),:].drop(columns = 'name')])\n",
    "cbb_player_stats = cbb_player_stats.drop_duplicates().reset_index(drop= True)   \n",
    "cbb_player_stats.rename(columns = {'level_0':'season'},inplace = True)"
   ]
  },
  {
   "cell_type": "code",
   "execution_count": 149,
   "id": "ba819d9f-ef16-4151-b417-1615605ab74e",
   "metadata": {},
   "outputs": [],
   "source": [
    "cbb_player_stats.to_csv('02_database/cbb_player_stats.csv',index=False)"
   ]
  },
  {
   "cell_type": "markdown",
   "id": "004e5de4-1e9e-42c6-bf56-e08f14eb46c3",
   "metadata": {},
   "source": [
    "**Create cbb_player_career_stats**  \n",
    "At the moment this seems to be a table that will need to be updated since there is no season variable.  \n",
    "So for a Freshman, this table will need to be updated the following year. Not sure if this will be a useful table"
   ]
  },
  {
   "cell_type": "code",
   "execution_count": 150,
   "id": "5e7ea8f0-76c0-4035-815c-b5718eb2fb7a",
   "metadata": {},
   "outputs": [],
   "source": [
    "files = os.listdir('01_raw_csv_files')\n",
    "files_csv = [f for f in files if f[-3:] == 'csv' and f[:3]=='cbb']\n",
    "\n",
    "cbb_player_career_stats = pd.DataFrame()\n",
    "for file in files_csv:\n",
    "    df = pd.read_csv('01_raw_csv_files/'+file)\n",
    "    cbb_player_career_stats = pd.concat([cbb_player_career_stats,df.loc[(df.level_0 == 'Career'),:].drop(columns = 'name')])\n",
    "cbb_player_career_stats = cbb_player_career_stats.drop_duplicates().reset_index(drop= True)   \n",
    "cbb_player_career_stats.rename(columns = {'level_0':'season'},inplace = True)"
   ]
  },
  {
   "cell_type": "code",
   "execution_count": 151,
   "id": "a82fe960-99f5-418f-b53c-3c4a96b1a935",
   "metadata": {},
   "outputs": [],
   "source": [
    "cbb_player_career_stats.to_csv('02_database/cbb_player_career_stats.csv',index=False)"
   ]
  },
  {
   "cell_type": "markdown",
   "id": "4eb16c8b-98c1-4bc5-b429-0d20c67a366c",
   "metadata": {},
   "source": [
    "**Create table cbb_player_school**"
   ]
  },
  {
   "cell_type": "code",
   "execution_count": 152,
   "id": "8e6c5ad8-6d72-42df-9ca4-a6af4091620b",
   "metadata": {},
   "outputs": [],
   "source": [
    "files = os.listdir('01_raw_csv_files')\n",
    "files_csv = [f for f in files if f[-3:] == 'csv' and f[:3]=='cbb']\n",
    "\n",
    "cbb_player_school = pd.DataFrame()\n",
    "for file in files_csv:\n",
    "    df = pd.read_csv('01_raw_csv_files/'+file)\n",
    "    cbb_player_school = pd.concat([cbb_player_school,df.loc[(df.level_0 != 'Career'),['player_id','level_0','conference','team_abbreviation']]])\n",
    "cbb_player_school = cbb_player_school.drop_duplicates().reset_index(drop= True)   \n",
    "cbb_player_school.rename(columns = {'level_0':'season'},inplace = True)"
   ]
  },
  {
   "cell_type": "code",
   "execution_count": 153,
   "id": "a732b0ee-4abf-4e68-bb31-78f48214a82b",
   "metadata": {},
   "outputs": [],
   "source": [
    "cbb_player_school.to_csv('02_database/cbb_player_school.csv',index=False)"
   ]
  },
  {
   "cell_type": "code",
   "execution_count": null,
   "id": "8012fa74-0fb8-4f83-8db7-fc4908eba5ac",
   "metadata": {},
   "outputs": [],
   "source": []
  }
 ],
 "metadata": {
  "kernelspec": {
   "display_name": "Python 3 (ipykernel)",
   "language": "python",
   "name": "python3"
  },
  "language_info": {
   "codemirror_mode": {
    "name": "ipython",
    "version": 3
   },
   "file_extension": ".py",
   "mimetype": "text/x-python",
   "name": "python",
   "nbconvert_exporter": "python",
   "pygments_lexer": "ipython3",
   "version": "3.8.8"
  }
 },
 "nbformat": 4,
 "nbformat_minor": 5
}
